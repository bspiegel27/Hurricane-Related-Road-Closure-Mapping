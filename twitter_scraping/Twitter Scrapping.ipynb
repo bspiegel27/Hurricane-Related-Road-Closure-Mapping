{
 "cells": [
  {
   "cell_type": "code",
   "execution_count": 1,
   "metadata": {},
   "outputs": [],
   "source": [
    "# !pip install tweepy\n",
    "# !pip install pyquery\n",
    "# !pip install jsonpickle\n"
   ]
  },
  {
   "cell_type": "markdown",
   "metadata": {},
   "source": [
    "## Using Jefferson Henrique's GetOldTweets3 Package and Twitter  API to Scrape Tweets \n",
    "---\n",
    "For scraping tweets, we will use the [GetOldTweets3](https://pypi.org/project/GetOldTweets3/) package and Twitter API, which allows you to search tweets by different features from any certain date range."
   ]
  },
  {
   "cell_type": "code",
   "execution_count": 18,
   "metadata": {},
   "outputs": [],
   "source": [
    "import GetOldTweets3 as got"
   ]
  },
  {
   "cell_type": "code",
   "execution_count": 19,
   "metadata": {},
   "outputs": [],
   "source": [
    "import pandas as pd\n",
    "import numpy as np\n",
    "import tweepy\n",
    "import shutil\n",
    "import jsonpickle\n",
    "import json\n",
    "import datetime\n",
    "import time\n",
    "import config\n",
    "from pandas.io.json import json_normalize"
   ]
  },
  {
   "cell_type": "code",
   "execution_count": 20,
   "metadata": {},
   "outputs": [],
   "source": [
    "auth = tweepy.OAuthHandler()\n",
    "auth.set_access_token()\n"
   ]
  },
  {
   "cell_type": "code",
   "execution_count": 21,
   "metadata": {},
   "outputs": [],
   "source": [
    "api = tweepy.API(auth, wait_on_rate_limit=True, wait_on_rate_limit_notify=True)\n"
   ]
  },
  {
   "cell_type": "code",
   "execution_count": 27,
   "metadata": {
    "collapsed": true
   },
   "outputs": [
    {
     "data": {
      "text/html": [
       "<div>\n",
       "<style scoped>\n",
       "    .dataframe tbody tr th:only-of-type {\n",
       "        vertical-align: middle;\n",
       "    }\n",
       "\n",
       "    .dataframe tbody tr th {\n",
       "        vertical-align: top;\n",
       "    }\n",
       "\n",
       "    .dataframe thead th {\n",
       "        text-align: right;\n",
       "    }\n",
       "</style>\n",
       "<table border=\"1\" class=\"dataframe\">\n",
       "  <thead>\n",
       "    <tr style=\"text-align: right;\">\n",
       "      <th></th>\n",
       "      <th>State</th>\n",
       "      <th>Abbrev</th>\n",
       "      <th>Twitter Handle - Primary</th>\n",
       "    </tr>\n",
       "  </thead>\n",
       "  <tbody>\n",
       "    <tr>\n",
       "      <th>86</th>\n",
       "      <td>Utah</td>\n",
       "      <td>UT</td>\n",
       "      <td>UtahDOT</td>\n",
       "    </tr>\n",
       "    <tr>\n",
       "      <th>87</th>\n",
       "      <td>Vermont</td>\n",
       "      <td>VT</td>\n",
       "      <td>511VT</td>\n",
       "    </tr>\n",
       "    <tr>\n",
       "      <th>88</th>\n",
       "      <td>Virginia</td>\n",
       "      <td>VA</td>\n",
       "      <td>511statewideva</td>\n",
       "    </tr>\n",
       "    <tr>\n",
       "      <th>89</th>\n",
       "      <td>Virginia</td>\n",
       "      <td>VA</td>\n",
       "      <td>511northernva</td>\n",
       "    </tr>\n",
       "    <tr>\n",
       "      <th>90</th>\n",
       "      <td>Virginia</td>\n",
       "      <td>VA</td>\n",
       "      <td>511centralva</td>\n",
       "    </tr>\n",
       "    <tr>\n",
       "      <th>91</th>\n",
       "      <td>Virginia</td>\n",
       "      <td>VA</td>\n",
       "      <td>511hamptonroads</td>\n",
       "    </tr>\n",
       "    <tr>\n",
       "      <th>92</th>\n",
       "      <td>Virginia</td>\n",
       "      <td>VA</td>\n",
       "      <td>511northwestva</td>\n",
       "    </tr>\n",
       "    <tr>\n",
       "      <th>93</th>\n",
       "      <td>Virginia</td>\n",
       "      <td>VA</td>\n",
       "      <td>511southwestva</td>\n",
       "    </tr>\n",
       "    <tr>\n",
       "      <th>94</th>\n",
       "      <td>Washington</td>\n",
       "      <td>WA</td>\n",
       "      <td>wsdot</td>\n",
       "    </tr>\n",
       "    <tr>\n",
       "      <th>95</th>\n",
       "      <td>West Virginia</td>\n",
       "      <td>WV</td>\n",
       "      <td>wv511</td>\n",
       "    </tr>\n",
       "    <tr>\n",
       "      <th>96</th>\n",
       "      <td>Wisconsin</td>\n",
       "      <td>WI</td>\n",
       "      <td>WisconsinDOT</td>\n",
       "    </tr>\n",
       "    <tr>\n",
       "      <th>97</th>\n",
       "      <td>Wyoming</td>\n",
       "      <td>WY</td>\n",
       "      <td>WYODT_Southwest</td>\n",
       "    </tr>\n",
       "    <tr>\n",
       "      <th>98</th>\n",
       "      <td>NaN</td>\n",
       "      <td>NaN</td>\n",
       "      <td>WYDOT_Central</td>\n",
       "    </tr>\n",
       "    <tr>\n",
       "      <th>99</th>\n",
       "      <td>NaN</td>\n",
       "      <td>NaN</td>\n",
       "      <td>WYDOT_Northeast</td>\n",
       "    </tr>\n",
       "    <tr>\n",
       "      <th>100</th>\n",
       "      <td>NaN</td>\n",
       "      <td>NaN</td>\n",
       "      <td>WYDOT_Southeast</td>\n",
       "    </tr>\n",
       "    <tr>\n",
       "      <th>101</th>\n",
       "      <td>NaN</td>\n",
       "      <td>NaN</td>\n",
       "      <td>WYDOT_Northwest</td>\n",
       "    </tr>\n",
       "    <tr>\n",
       "      <th>102</th>\n",
       "      <td>NaN</td>\n",
       "      <td>NaN</td>\n",
       "      <td>WYDOT_I80</td>\n",
       "    </tr>\n",
       "    <tr>\n",
       "      <th>103</th>\n",
       "      <td>NaN</td>\n",
       "      <td>NaN</td>\n",
       "      <td>WYDOT_I90</td>\n",
       "    </tr>\n",
       "    <tr>\n",
       "      <th>104</th>\n",
       "      <td>NaN</td>\n",
       "      <td>NaN</td>\n",
       "      <td>WYDOT_I25</td>\n",
       "    </tr>\n",
       "    <tr>\n",
       "      <th>105</th>\n",
       "      <td>NaN</td>\n",
       "      <td>NaN</td>\n",
       "      <td>WYDOT1</td>\n",
       "    </tr>\n",
       "  </tbody>\n",
       "</table>\n",
       "</div>"
      ],
      "text/plain": [
       "             State Abbrev Twitter Handle - Primary \n",
       "86            Utah     UT                   UtahDOT\n",
       "87         Vermont     VT                     511VT\n",
       "88        Virginia     VA            511statewideva\n",
       "89        Virginia     VA             511northernva\n",
       "90        Virginia     VA              511centralva\n",
       "91        Virginia     VA           511hamptonroads\n",
       "92        Virginia     VA            511northwestva\n",
       "93        Virginia     VA            511southwestva\n",
       "94      Washington     WA                     wsdot\n",
       "95   West Virginia     WV                     wv511\n",
       "96       Wisconsin     WI              WisconsinDOT\n",
       "97         Wyoming     WY           WYODT_Southwest\n",
       "98             NaN    NaN             WYDOT_Central\n",
       "99             NaN    NaN           WYDOT_Northeast\n",
       "100            NaN    NaN           WYDOT_Southeast\n",
       "101            NaN    NaN           WYDOT_Northwest\n",
       "102            NaN    NaN                 WYDOT_I80\n",
       "103            NaN    NaN                 WYDOT_I90\n",
       "104            NaN    NaN                 WYDOT_I25\n",
       "105            NaN    NaN                    WYDOT1"
      ]
     },
     "execution_count": 27,
     "metadata": {},
     "output_type": "execute_result"
    }
   ],
   "source": [
    "traffic_acc = pd.read_csv('./Data/511_accts.csv')\n",
    "traffic_acc.tail(20)"
   ]
  },
  {
   "cell_type": "code",
   "execution_count": 28,
   "metadata": {
    "collapsed": true
   },
   "outputs": [
    {
     "data": {
      "text/plain": [
       "['NWSSanJuan',\n",
       " 'NCPublicSafety',\n",
       " 'wectnews',\n",
       " 'WilmingtonPD',\n",
       " 'WECTtraffic',\n",
       " 'WilmNCtraffic',\n",
       " 'wraltraffic',\n",
       " 'NWSRaleigh',\n",
       " 'TriangleTraffic',\n",
       " 'NCDOT_Triangle',\n",
       " 'TotalTrafficRDU',\n",
       " 'AlbanyGaPD',\n",
       " 'CityofAlbanyGA',\n",
       " 'NWSTallahassee',\n",
       " 'fl511_panhandl',\n",
       " 'COTNews',\n",
       " 'TallyTraffic',\n",
       " 'COTTraffic',\n",
       " 'TxDOTHouston',\n",
       " 'TxDPSSoutheast',\n",
       " 'houstontranstar',\n",
       " 'TotalTrafficHOU',\n",
       " 'HoustonRoadHelp',\n",
       " 'KHOUweather']"
      ]
     },
     "execution_count": 28,
     "metadata": {},
     "output_type": "execute_result"
    }
   ],
   "source": [
    "# Code edited from previous DC project. \n",
    "my_accounts = []\n",
    "for friend in tweepy.Cursor(api.friends).items():\n",
    "    my_accounts.append(friend.screen_name)\n",
    "\n",
    "my_accounts"
   ]
  },
  {
   "cell_type": "code",
   "execution_count": 29,
   "metadata": {},
   "outputs": [],
   "source": [
    "traffic_list = traffic_acc['Twitter Handle - Primary '].tolist()\n",
    "for i in traffic_list:\n",
    "    my_accounts.append(i)"
   ]
  },
  {
   "cell_type": "markdown",
   "metadata": {},
   "source": [
    "## Making list of accounts for each hurricane\n",
    "---\n",
    "We compiled a list of twitter accounts for the two hurricanes at interest, Michael and Florence. Accounts consisted of local news & weather channels and 511 accounts for that area."
   ]
  },
  {
   "cell_type": "code",
   "execution_count": 33,
   "metadata": {},
   "outputs": [],
   "source": [
    "michael_acc = ['NWSTallahassee','fl511_panhandl','COTNews','TallyTraffic','COTTraffic','myfdot','FL511_STATE',\n",
    "               'FL511_PANHANDL','FL511_NORTHEAST','FL511_CENTRAL','FL511_TAMPABAY','FL511_SOUTHWEST','MyFDOT_NWFL'\n",
    "               'FL511_SOUTHEAST','AlbanyGaPD','CityofAlbanyGA','511Georgia']"
   ]
  },
  {
   "cell_type": "code",
   "execution_count": 34,
   "metadata": {},
   "outputs": [],
   "source": [
    "florence_acc = ['NCPublicSafety','wectnews','WilmingtonPD','WECTtraffic','WilmNCtraffic',\n",
    "                'wraltraffic','NWSRaleigh','TriangleTraffic','NCDOT_Triangle','TotalTrafficRDU',\n",
    "                'SCDOTPeeDee', 'SCDOTPiedmont','SCDOTMidlands','SCDOTLowCountry','SouthDakotaDOT',]"
   ]
  },
  {
   "cell_type": "markdown",
   "metadata": {},
   "source": [
    "# Gathering Tweets for Three Hurricanes.\n",
    "---\n",
    "We ran the below code for the two hurricane. Using this code allows us to select the date range and accounts we are interested in searching for. \n",
    "\n",
    "### Hurricane Michael - account search"
   ]
  },
  {
   "cell_type": "code",
   "execution_count": 52,
   "metadata": {},
   "outputs": [
    {
     "name": "stdout",
     "output_type": "stream",
     "text": [
      "Shape of DataFrame: (5437, 7)\n"
     ]
    }
   ],
   "source": [
    "#code edited from previous DC project. \n",
    "max_tweets=3000\n",
    "closure_list=[]\n",
    "michael_df=pd.DataFrame()\n",
    "for account in michael_acc:\n",
    "    tweetCriteria = got.manager.TweetCriteria().setUsername(account).setSince(\"2017-10-08\").setUntil(\"2017-10-18\").setMaxTweets(max_tweets)\n",
    "    tweet = got.manager.TweetManager.getTweets(tweetCriteria)\n",
    "    for i in range(len(tweet)):\n",
    "        tweet_dict = {}\n",
    "        tweet_dict['id'] = tweet[i].id\n",
    "        tweet_dict['username'] = tweet[i].username\n",
    "        tweet_dict['date'] = tweet[i].date\n",
    "        tweet_dict['text'] = tweet[i].text\n",
    "        tweet_dict['hashtags'] = tweet[i].hashtags\n",
    "        tweet_dict['geo'] = tweet[i].geo\n",
    "        closure_list.append(tweet_dict)\n",
    "\n",
    "\n",
    "df1=pd.DataFrame(closure_list)\n",
    "michael_df = pd.concat([df1, michael_df])\n",
    "print(\"Shape of DataFrame:\", final_df.shape)"
   ]
  },
  {
   "cell_type": "code",
   "execution_count": 57,
   "metadata": {},
   "outputs": [],
   "source": [
    "michael_df.to_csv('michael.csv', index=False)"
   ]
  },
  {
   "cell_type": "markdown",
   "metadata": {},
   "source": [
    "### Hurricane Florence  - account search"
   ]
  },
  {
   "cell_type": "code",
   "execution_count": null,
   "metadata": {},
   "outputs": [],
   "source": [
    "max_tweets=3000\n",
    "closure_list=[]\n",
    "florence_df=pd.DataFrame()\n",
    "for account in florence_acc:\n",
    "    tweetCriteria = got.manager.TweetCriteria().setUsername(account).setSince(\"2018-09-07\").setUntil(\"2017-09-18\").setMaxTweets(max_tweets)\n",
    "    tweet = got.manager.TweetManager.getTweets(tweetCriteria)\n",
    "    for i in range(len(tweet)):\n",
    "        tweet_dict = {}\n",
    "        tweet_dict['id'] = tweet[i].id\n",
    "        tweet_dict['username'] = tweet[i].username\n",
    "        tweet_dict['date'] = tweet[i].date\n",
    "        tweet_dict['text'] = tweet[i].text\n",
    "        tweet_dict['hashtags'] = tweet[i].hashtags\n",
    "        tweet_dict['geo'] = tweet[i].geo\n",
    "        closure_list.append(tweet_dict)\n",
    "\n",
    "\n",
    "df1=pd.DataFrame(closure_list)\n",
    "florence_df = pd.concat([df1, florence_df])\n",
    "print(\"Shape of DataFrame:\", florence_df.shape)\n"
   ]
  },
  {
   "cell_type": "code",
   "execution_count": null,
   "metadata": {},
   "outputs": [],
   "source": [
    "florence_df.to_csv('florence.csv', index=False)"
   ]
  },
  {
   "cell_type": "code",
   "execution_count": null,
   "metadata": {},
   "outputs": [],
   "source": []
  }
 ],
 "metadata": {
  "kernelspec": {
   "display_name": "Python 3",
   "language": "python",
   "name": "python3"
  },
  "language_info": {
   "codemirror_mode": {
    "name": "ipython",
    "version": 3
   },
   "file_extension": ".py",
   "mimetype": "text/x-python",
   "name": "python",
   "nbconvert_exporter": "python",
   "pygments_lexer": "ipython3",
   "version": "3.7.3"
  }
 },
 "nbformat": 4,
 "nbformat_minor": 2
}
