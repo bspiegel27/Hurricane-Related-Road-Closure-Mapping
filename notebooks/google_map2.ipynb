{
 "cells": [
  {
   "cell_type": "code",
   "execution_count": 1,
   "metadata": {},
   "outputs": [
    {
     "name": "stdout",
     "output_type": "stream",
     "text": [
      "Collecting geopy\n",
      "\u001b[?25l  Downloading https://files.pythonhosted.org/packages/80/93/d384479da0ead712bdaf697a8399c13a9a89bd856ada5a27d462fb45e47b/geopy-1.20.0-py2.py3-none-any.whl (100kB)\n",
      "\u001b[K    100% |████████████████████████████████| 102kB 4.1MB/s a 0:00:011\n",
      "\u001b[?25hCollecting geographiclib<2,>=1.49 (from geopy)\n",
      "  Downloading https://files.pythonhosted.org/packages/5b/ac/4f348828091490d77899bc74e92238e2b55c59392f21948f296e94e50e2b/geographiclib-1.49.tar.gz\n",
      "Building wheels for collected packages: geographiclib\n",
      "  Building wheel for geographiclib (setup.py) ... \u001b[?25ldone\n",
      "\u001b[?25h  Stored in directory: /Users/bobbykelsey/Library/Caches/pip/wheels/99/45/d1/14954797e2a976083182c2e7da9b4e924509e59b6e5c661061\n",
      "Successfully built geographiclib\n",
      "Installing collected packages: geographiclib, geopy\n",
      "Successfully installed geographiclib-1.49 geopy-1.20.0\n"
     ]
    }
   ],
   "source": [
    "!pip install geopy"
   ]
  },
  {
   "cell_type": "code",
   "execution_count": null,
   "metadata": {
    "scrolled": true
   },
   "outputs": [],
   "source": [
    "#! pip install -U googlemaps"
   ]
  },
  {
   "cell_type": "code",
   "execution_count": null,
   "metadata": {},
   "outputs": [],
   "source": [
    "#!pip install gmplot"
   ]
  },
  {
   "cell_type": "code",
   "execution_count": 2,
   "metadata": {},
   "outputs": [],
   "source": [
    "api_key = '"
   ]
  },
  {
   "cell_type": "code",
   "execution_count": 5,
   "metadata": {},
   "outputs": [
    {
     "name": "stdout",
     "output_type": "stream",
     "text": [
      "42.3946506 -71.26242909999999\n"
     ]
    }
   ],
   "source": [
    "from geopy import geocoders\n",
    "g = geocoders.GoogleV3(api_key=api_key)\n",
    "\n",
    "#create an input address string\n",
    "#you can also build this by reading from an input database and building a string\n",
    "\n",
    "inputAddress = 'i95 exit 16b, MA' \n",
    "\n",
    "#do the geocode\n",
    "location = g.geocode(inputAddress, timeout=10)\n",
    "\n",
    "#some things you can get from the result\n",
    "print(location.latitude, location.longitude)\n",
    "#print(location.raw)\n",
    "#print(location.address)\n",
    "\n",
    "#https://github.com/geopy/geopy/issues/171"
   ]
  },
  {
   "cell_type": "code",
   "execution_count": 7,
   "metadata": {
    "scrolled": true
   },
   "outputs": [
    {
     "name": "stdout",
     "output_type": "stream",
     "text": [
      "{'address_components': [{'long_name': '175', 'short_name': '175', 'types': ['street_number']}, {'long_name': '5th Avenue', 'short_name': '5th Ave', 'types': ['route']}, {'long_name': 'Manhattan', 'short_name': 'Manhattan', 'types': ['political', 'sublocality', 'sublocality_level_1']}, {'long_name': 'New York', 'short_name': 'New York', 'types': ['locality', 'political']}, {'long_name': 'New York County', 'short_name': 'New York County', 'types': ['administrative_area_level_2', 'political']}, {'long_name': 'New York', 'short_name': 'NY', 'types': ['administrative_area_level_1', 'political']}, {'long_name': 'United States', 'short_name': 'US', 'types': ['country', 'political']}, {'long_name': '10010', 'short_name': '10010', 'types': ['postal_code']}], 'formatted_address': '175 5th Ave, New York, NY 10010, USA', 'geometry': {'location': {'lat': 40.7411774, 'lng': -73.989664}, 'location_type': 'ROOFTOP', 'viewport': {'northeast': {'lat': 40.7425263802915, 'lng': -73.98831501970851}, 'southwest': {'lat': 40.7398284197085, 'lng': -73.99101298029152}}}, 'place_id': 'ChIJn1Qd-KNZwokRoH3MyrWbo7I', 'plus_code': {'compound_code': 'P2R6+F4 New York, United States', 'global_code': '87G8P2R6+F4'}, 'types': ['street_address']}\n"
     ]
    }
   ],
   "source": [
    "print(location.raw)"
   ]
  },
  {
   "cell_type": "code",
   "execution_count": 8,
   "metadata": {
    "scrolled": true
   },
   "outputs": [
    {
     "name": "stdout",
     "output_type": "stream",
     "text": [
      "175 5th Ave, New York, NY 10010, USA\n"
     ]
    }
   ],
   "source": [
    "print(location.address)"
   ]
  },
  {
   "cell_type": "code",
   "execution_count": 17,
   "metadata": {},
   "outputs": [
    {
     "name": "stdout",
     "output_type": "stream",
     "text": [
      "Massachusetts, USA\n"
     ]
    }
   ],
   "source": [
    "#https://www.w3resource.com/python-exercises/geopy/index.php#EDITOR\n",
    "from geopy import geocoders\n",
    "g = geocoders.GoogleV3(api_key=api_key)\n",
    "\n",
    "#create an input address string\n",
    "#you can also build this by reading from an input database and building a string\n",
    "\n",
    "state1 = 'Massachusetts' \n",
    "\n",
    "#do the geocode\n",
    "location = g.geocode(state1, timeout=10)\n",
    "\n",
    "#some things you can get from the result\n",
    "print(location.address)"
   ]
  },
  {
   "cell_type": "code",
   "execution_count": 18,
   "metadata": {},
   "outputs": [
    {
     "name": "stdout",
     "output_type": "stream",
     "text": [
      "Framingham, MA 01702, USA\n"
     ]
    }
   ],
   "source": [
    "from geopy import geocoders\n",
    "g = geocoders.GoogleV3(api_key=api_key)\n",
    "\n",
    "#create an input address string\n",
    "#you can also build this by reading from an input database and building a string\n",
    "\n",
    "zipcode1 = '01702' \n",
    "\n",
    "#do the geocode\n",
    "location = g.geocode(zipcode1, timeout=10)\n",
    "\n",
    "#some things you can get from the result\n",
    "print(location.address)"
   ]
  },
  {
   "cell_type": "code",
   "execution_count": 19,
   "metadata": {},
   "outputs": [
    {
     "name": "stdout",
     "output_type": "stream",
     "text": [
      "42.2781628 -71.4358733\n"
     ]
    }
   ],
   "source": [
    "print(location.latitude, location.longitude)"
   ]
  },
  {
   "cell_type": "code",
   "execution_count": 21,
   "metadata": {},
   "outputs": [
    {
     "name": "stdout",
     "output_type": "stream",
     "text": [
      "Latitude and Longitude of the said address:\n",
      "47.5514926 -101.0020119\n"
     ]
    }
   ],
   "source": [
    "from geopy import geocoders\n",
    "g = geocoders.GoogleV3(api_key=api_key)\n",
    "\n",
    "#create an input address string\n",
    "#you can also build this by reading from an input database and building a string\n",
    "\n",
    "ladd1 = '27488 Stanford Avenue, North Dakota' \n",
    "\n",
    "#do the geocode\n",
    "location = g.geocode(ladd1, timeout=10)\n",
    "\n",
    "#some things you can get from the result\n",
    "print(\"Latitude and Longitude of the said address:\")\n",
    "print(location.latitude, location.longitude)"
   ]
  },
  {
   "cell_type": "code",
   "execution_count": 23,
   "metadata": {},
   "outputs": [
    {
     "name": "stdout",
     "output_type": "stream",
     "text": [
      "\n",
      "Latitude and Longitude: 34.05728435, -117.194132331602\n",
      "380 New York St, Redlands, CA 92373, USA\n"
     ]
    }
   ],
   "source": [
    "from geopy import geocoders\n",
    "g = geocoders.GoogleV3(api_key=api_key)\n",
    "\n",
    "#create an input address string\n",
    "#you can also build this by reading from an input database and building a string\n",
    "\n",
    "lald = '34.05728435, -117.194132331602' \n",
    "\n",
    "#do the geocode\n",
    "location = g.geocode(lald, timeout=10)\n",
    "\n",
    "#some things you can get from the result\n",
    "print(\"\\nLatitude and Longitude:\",lald)\n",
    "print(location)"
   ]
  },
  {
   "cell_type": "code",
   "execution_count": 24,
   "metadata": {
    "scrolled": true
   },
   "outputs": [
    {
     "name": "stdout",
     "output_type": "stream",
     "text": [
      "('Bowdon', 'North Dakota', 'USA')\n"
     ]
    }
   ],
   "source": [
    "from geopy.geocoders import Nominatim\n",
    "geolocator = Nominatim(user_agent=\"geoapiExercises\")\n",
    "def city_state_country(coord):\n",
    "    location = geolocator.reverse(coord, exactly_one=True)\n",
    "    address = location.raw['address']\n",
    "    city = address.get('city', '')\n",
    "    state = address.get('state', '')\n",
    "    country = address.get('country', '')\n",
    "    return city, state, country\n",
    "print(city_state_country(\"47.470706, -99.704723\"))"
   ]
  },
  {
   "cell_type": "code",
   "execution_count": null,
   "metadata": {},
   "outputs": [],
   "source": [
    "import gmplot \n",
    "  \n",
    "latitude_list = lat\n",
    "longitude_list = long\n",
    "  \n",
    "gmap3 = gmplot.GoogleMapPlotter(30.3164945, \n",
    "                                78.03219179999999, 13) \n",
    "  \n",
    "# scatter method of map object  \n",
    "# scatter points on the google map \n",
    "gmap3.scatter( latitude_list, longitude_list, '# FF0000', \n",
    "                              size = 40, marker = False ) \n",
    "  \n",
    "# Plot method Draw a line in \n",
    "# between given coordinates \n",
    "gmap3.plot(latitude_list, longitude_list,  \n",
    "           'cornflowerblue', edge_width = 2.5) \n",
    "  \n",
    "gmap3.draw( \"C:\\\\Users\\\\jly05\\\\GA\\project-client_project\\\\Location.html\" )"
   ]
  },
  {
   "cell_type": "code",
   "execution_count": null,
   "metadata": {},
   "outputs": [],
   "source": [
    "# from IPython.core.display import display, HTML\n",
    "# display(HTML('C:/Users/jly05/GA/project-client_project/maps/my_map.html'))"
   ]
  }
 ],
 "metadata": {
  "kernelspec": {
   "display_name": "Python 3",
   "language": "python",
   "name": "python3"
  },
  "language_info": {
   "codemirror_mode": {
    "name": "ipython",
    "version": 3
   },
   "file_extension": ".py",
   "mimetype": "text/x-python",
   "name": "python",
   "nbconvert_exporter": "python",
   "pygments_lexer": "ipython3",
   "version": "3.7.3"
  }
 },
 "nbformat": 4,
 "nbformat_minor": 2
}
