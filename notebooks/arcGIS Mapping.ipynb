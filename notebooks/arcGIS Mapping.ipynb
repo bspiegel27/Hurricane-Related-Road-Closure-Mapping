{
 "cells": [
  {
   "cell_type": "code",
   "execution_count": 9,
   "metadata": {},
   "outputs": [
    {
     "name": "stdout",
     "output_type": "stream",
     "text": [
      "Requirement already satisfied: geopy in /Users/bobbykelsey/anaconda3/envs/dsi/lib/python3.7/site-packages (1.20.0)\n",
      "Requirement already satisfied: geographiclib<2,>=1.49 in /Users/bobbykelsey/anaconda3/envs/dsi/lib/python3.7/site-packages (from geopy) (1.49)\n"
     ]
    }
   ],
   "source": [
    "#!pip install geopy"
   ]
  },
  {
   "cell_type": "code",
   "execution_count": 10,
   "metadata": {
    "scrolled": true
   },
   "outputs": [
    {
     "name": "stdout",
     "output_type": "stream",
     "text": [
      "Requirement already satisfied: arcgis in /Users/bobbykelsey/anaconda3/envs/dsi/lib/python3.7/site-packages (1.6.2)\n",
      "Requirement already satisfied: matplotlib in /Users/bobbykelsey/anaconda3/envs/dsi/lib/python3.7/site-packages (from arcgis) (3.1.1)\n",
      "Requirement already satisfied: pyshp==1.2.11 in /Users/bobbykelsey/anaconda3/envs/dsi/lib/python3.7/site-packages (from arcgis) (1.2.11)\n",
      "Requirement already satisfied: six in /Users/bobbykelsey/anaconda3/envs/dsi/lib/python3.7/site-packages (from arcgis) (1.12.0)\n",
      "Requirement already satisfied: pandas>=0.23 in /Users/bobbykelsey/anaconda3/envs/dsi/lib/python3.7/site-packages (from arcgis) (0.25.0)\n",
      "Requirement already satisfied: widgetsnbextension>=3 in /Users/bobbykelsey/anaconda3/envs/dsi/lib/python3.7/site-packages (from arcgis) (3.5.0)\n",
      "Requirement already satisfied: jupyterlab in /Users/bobbykelsey/anaconda3/envs/dsi/lib/python3.7/site-packages (from arcgis) (0.35.4)\n",
      "Requirement already satisfied: ipywidgets>=7 in /Users/bobbykelsey/anaconda3/envs/dsi/lib/python3.7/site-packages (from arcgis) (7.5.0)\n",
      "Requirement already satisfied: keyring in /Users/bobbykelsey/anaconda3/envs/dsi/lib/python3.7/site-packages (from arcgis) (18.0.0)\n",
      "Requirement already satisfied: numpy in /Users/bobbykelsey/anaconda3/envs/dsi/lib/python3.7/site-packages (from arcgis) (1.16.4)\n",
      "Requirement already satisfied: kiwisolver>=1.0.1 in /Users/bobbykelsey/anaconda3/envs/dsi/lib/python3.7/site-packages (from matplotlib->arcgis) (1.0.1)\n",
      "Requirement already satisfied: cycler>=0.10 in /Users/bobbykelsey/anaconda3/envs/dsi/lib/python3.7/site-packages (from matplotlib->arcgis) (0.10.0)\n",
      "Requirement already satisfied: pyparsing!=2.0.4,!=2.1.2,!=2.1.6,>=2.0.1 in /Users/bobbykelsey/anaconda3/envs/dsi/lib/python3.7/site-packages (from matplotlib->arcgis) (2.3.1)\n",
      "Requirement already satisfied: python-dateutil>=2.1 in /Users/bobbykelsey/anaconda3/envs/dsi/lib/python3.7/site-packages (from matplotlib->arcgis) (2.8.0)\n",
      "Requirement already satisfied: pytz>=2017.2 in /Users/bobbykelsey/anaconda3/envs/dsi/lib/python3.7/site-packages (from pandas>=0.23->arcgis) (2018.9)\n",
      "Requirement already satisfied: notebook>=4.4.1 in /Users/bobbykelsey/anaconda3/envs/dsi/lib/python3.7/site-packages (from widgetsnbextension>=3->arcgis) (5.7.8)\n",
      "Requirement already satisfied: jupyterlab_server<0.3.0,>=0.2.0 in /Users/bobbykelsey/anaconda3/envs/dsi/lib/python3.7/site-packages (from jupyterlab->arcgis) (0.2.0)\n",
      "Requirement already satisfied: nbformat>=4.2.0 in /Users/bobbykelsey/anaconda3/envs/dsi/lib/python3.7/site-packages (from ipywidgets>=7->arcgis) (4.4.0)\n",
      "Requirement already satisfied: ipykernel>=4.5.1 in /Users/bobbykelsey/anaconda3/envs/dsi/lib/python3.7/site-packages (from ipywidgets>=7->arcgis) (5.1.0)\n",
      "Requirement already satisfied: ipython>=4.0.0; python_version >= \"3.3\" in /Users/bobbykelsey/anaconda3/envs/dsi/lib/python3.7/site-packages (from ipywidgets>=7->arcgis) (7.6.1)\n",
      "Requirement already satisfied: traitlets>=4.3.1 in /Users/bobbykelsey/anaconda3/envs/dsi/lib/python3.7/site-packages (from ipywidgets>=7->arcgis) (4.3.2)\n",
      "Requirement already satisfied: entrypoints in /Users/bobbykelsey/anaconda3/envs/dsi/lib/python3.7/site-packages (from keyring->arcgis) (0.3)\n",
      "Requirement already satisfied: setuptools in /Users/bobbykelsey/anaconda3/envs/dsi/lib/python3.7/site-packages (from kiwisolver>=1.0.1->matplotlib->arcgis) (40.8.0)\n",
      "Requirement already satisfied: Send2Trash in /Users/bobbykelsey/anaconda3/envs/dsi/lib/python3.7/site-packages (from notebook>=4.4.1->widgetsnbextension>=3->arcgis) (1.5.0)\n",
      "Requirement already satisfied: jinja2 in /Users/bobbykelsey/anaconda3/envs/dsi/lib/python3.7/site-packages (from notebook>=4.4.1->widgetsnbextension>=3->arcgis) (2.10)\n",
      "Requirement already satisfied: jupyter-client>=5.2.0 in /Users/bobbykelsey/anaconda3/envs/dsi/lib/python3.7/site-packages (from notebook>=4.4.1->widgetsnbextension>=3->arcgis) (5.2.4)\n",
      "Requirement already satisfied: jupyter-core>=4.4.0 in /Users/bobbykelsey/anaconda3/envs/dsi/lib/python3.7/site-packages (from notebook>=4.4.1->widgetsnbextension>=3->arcgis) (4.4.0)\n",
      "Requirement already satisfied: tornado<7,>=4.1 in /Users/bobbykelsey/anaconda3/envs/dsi/lib/python3.7/site-packages (from notebook>=4.4.1->widgetsnbextension>=3->arcgis) (6.0.2)\n",
      "Requirement already satisfied: terminado>=0.8.1 in /Users/bobbykelsey/anaconda3/envs/dsi/lib/python3.7/site-packages (from notebook>=4.4.1->widgetsnbextension>=3->arcgis) (0.8.1)\n",
      "Requirement already satisfied: pyzmq>=17 in /Users/bobbykelsey/anaconda3/envs/dsi/lib/python3.7/site-packages (from notebook>=4.4.1->widgetsnbextension>=3->arcgis) (18.0.0)\n",
      "Requirement already satisfied: prometheus-client in /Users/bobbykelsey/anaconda3/envs/dsi/lib/python3.7/site-packages (from notebook>=4.4.1->widgetsnbextension>=3->arcgis) (0.6.0)\n",
      "Requirement already satisfied: nbconvert in /Users/bobbykelsey/anaconda3/envs/dsi/lib/python3.7/site-packages (from notebook>=4.4.1->widgetsnbextension>=3->arcgis) (5.4.1)\n",
      "Requirement already satisfied: ipython-genutils in /Users/bobbykelsey/anaconda3/envs/dsi/lib/python3.7/site-packages (from notebook>=4.4.1->widgetsnbextension>=3->arcgis) (0.2.0)\n",
      "Requirement already satisfied: jsonschema>=2.6.0 in /Users/bobbykelsey/anaconda3/envs/dsi/lib/python3.7/site-packages (from jupyterlab_server<0.3.0,>=0.2.0->jupyterlab->arcgis) (3.0.1)\n",
      "Requirement already satisfied: prompt-toolkit<2.1.0,>=2.0.0 in /Users/bobbykelsey/anaconda3/envs/dsi/lib/python3.7/site-packages (from ipython>=4.0.0; python_version >= \"3.3\"->ipywidgets>=7->arcgis) (2.0.9)\n",
      "Requirement already satisfied: backcall in /Users/bobbykelsey/anaconda3/envs/dsi/lib/python3.7/site-packages (from ipython>=4.0.0; python_version >= \"3.3\"->ipywidgets>=7->arcgis) (0.1.0)\n",
      "Requirement already satisfied: jedi>=0.10 in /Users/bobbykelsey/anaconda3/envs/dsi/lib/python3.7/site-packages (from ipython>=4.0.0; python_version >= \"3.3\"->ipywidgets>=7->arcgis) (0.13.3)\n",
      "Requirement already satisfied: appnope; sys_platform == \"darwin\" in /Users/bobbykelsey/anaconda3/envs/dsi/lib/python3.7/site-packages (from ipython>=4.0.0; python_version >= \"3.3\"->ipywidgets>=7->arcgis) (0.1.0)\n",
      "Requirement already satisfied: pygments in /Users/bobbykelsey/anaconda3/envs/dsi/lib/python3.7/site-packages (from ipython>=4.0.0; python_version >= \"3.3\"->ipywidgets>=7->arcgis) (2.3.1)\n",
      "Requirement already satisfied: pexpect; sys_platform != \"win32\" in /Users/bobbykelsey/anaconda3/envs/dsi/lib/python3.7/site-packages (from ipython>=4.0.0; python_version >= \"3.3\"->ipywidgets>=7->arcgis) (4.6.0)\n",
      "Requirement already satisfied: pickleshare in /Users/bobbykelsey/anaconda3/envs/dsi/lib/python3.7/site-packages (from ipython>=4.0.0; python_version >= \"3.3\"->ipywidgets>=7->arcgis) (0.7.5)\n",
      "Requirement already satisfied: decorator in /Users/bobbykelsey/anaconda3/envs/dsi/lib/python3.7/site-packages (from ipython>=4.0.0; python_version >= \"3.3\"->ipywidgets>=7->arcgis) (4.4.0)\n",
      "Requirement already satisfied: MarkupSafe>=0.23 in /Users/bobbykelsey/anaconda3/envs/dsi/lib/python3.7/site-packages (from jinja2->notebook>=4.4.1->widgetsnbextension>=3->arcgis) (1.1.1)\n",
      "Requirement already satisfied: mistune>=0.8.1 in /Users/bobbykelsey/anaconda3/envs/dsi/lib/python3.7/site-packages (from nbconvert->notebook>=4.4.1->widgetsnbextension>=3->arcgis) (0.8.4)\n",
      "Requirement already satisfied: bleach in /Users/bobbykelsey/anaconda3/envs/dsi/lib/python3.7/site-packages (from nbconvert->notebook>=4.4.1->widgetsnbextension>=3->arcgis) (3.1.0)\n",
      "Requirement already satisfied: pandocfilters>=1.4.1 in /Users/bobbykelsey/anaconda3/envs/dsi/lib/python3.7/site-packages (from nbconvert->notebook>=4.4.1->widgetsnbextension>=3->arcgis) (1.4.2)\n",
      "Requirement already satisfied: testpath in /Users/bobbykelsey/anaconda3/envs/dsi/lib/python3.7/site-packages (from nbconvert->notebook>=4.4.1->widgetsnbextension>=3->arcgis) (0.4.2)\n",
      "Requirement already satisfied: defusedxml in /Users/bobbykelsey/anaconda3/envs/dsi/lib/python3.7/site-packages (from nbconvert->notebook>=4.4.1->widgetsnbextension>=3->arcgis) (0.5.0)\n",
      "Requirement already satisfied: attrs>=17.4.0 in /Users/bobbykelsey/anaconda3/envs/dsi/lib/python3.7/site-packages (from jsonschema>=2.6.0->jupyterlab_server<0.3.0,>=0.2.0->jupyterlab->arcgis) (19.1.0)\n",
      "Requirement already satisfied: pyrsistent>=0.14.0 in /Users/bobbykelsey/anaconda3/envs/dsi/lib/python3.7/site-packages (from jsonschema>=2.6.0->jupyterlab_server<0.3.0,>=0.2.0->jupyterlab->arcgis) (0.14.11)\n",
      "Requirement already satisfied: wcwidth in /Users/bobbykelsey/anaconda3/envs/dsi/lib/python3.7/site-packages (from prompt-toolkit<2.1.0,>=2.0.0->ipython>=4.0.0; python_version >= \"3.3\"->ipywidgets>=7->arcgis) (0.1.7)\n",
      "Requirement already satisfied: parso>=0.3.0 in /Users/bobbykelsey/anaconda3/envs/dsi/lib/python3.7/site-packages (from jedi>=0.10->ipython>=4.0.0; python_version >= \"3.3\"->ipywidgets>=7->arcgis) (0.3.4)\n",
      "Requirement already satisfied: ptyprocess>=0.5 in /Users/bobbykelsey/anaconda3/envs/dsi/lib/python3.7/site-packages (from pexpect; sys_platform != \"win32\"->ipython>=4.0.0; python_version >= \"3.3\"->ipywidgets>=7->arcgis) (0.6.0)\n",
      "Requirement already satisfied: webencodings in /Users/bobbykelsey/anaconda3/envs/dsi/lib/python3.7/site-packages (from bleach->nbconvert->notebook>=4.4.1->widgetsnbextension>=3->arcgis) (0.5.1)\n"
     ]
    }
   ],
   "source": [
    "#!pip install arcgis"
   ]
  },
  {
   "cell_type": "code",
   "execution_count": 11,
   "metadata": {},
   "outputs": [],
   "source": [
    "from arcgis.gis import GIS\n",
    "from arcgis.geocoding import geocode, reverse_geocode\n",
    "from arcgis.geometry import Point"
   ]
  },
  {
   "cell_type": "code",
   "execution_count": 12,
   "metadata": {},
   "outputs": [],
   "source": [
    "gis = GIS(\"https://www.arcgis.com\",\n",
    "          \"dsi_project_5\",\n",
    "          \"jbb_project_3\")"
   ]
  },
  {
   "cell_type": "code",
   "execution_count": 16,
   "metadata": {},
   "outputs": [
    {
     "data": {
      "application/vnd.jupyter.widget-view+json": {
       "model_id": "84563359f16b438fa0ac5bc32532f42d",
       "version_major": 2,
       "version_minor": 0
      },
      "text/plain": [
       "MapView(layout=Layout(height='400px', width='100%'), zoom=10.0)"
      ]
     },
     "metadata": {},
     "output_type": "display_data"
    },
    {
     "data": {
      "text/html": [
       "<div class=\"map-static-img-preview-7254f485-5cee-4e86-a8e5-118982f9dff7\"><img src=\"\"></img></div>"
      ],
      "text/plain": [
       "<IPython.core.display.HTML object>"
      ]
     },
     "metadata": {},
     "output_type": "display_data"
    }
   ],
   "source": [
    "gis.map(location = (42.246480000000076,-71.20801999999998), zoomlevel = 10)"
   ]
  },
  {
   "cell_type": "code",
   "execution_count": 14,
   "metadata": {},
   "outputs": [
    {
     "name": "stdout",
     "output_type": "stream",
     "text": [
      "42.246480000000076\n",
      "-71.20801999999998\n"
     ]
    }
   ],
   "source": [
    "geocode_result = geocode(address=\"I-95 exit 16b, Massachussetts\",\n",
    "                        category = \"Highway Exit\")\n",
    "\n",
    "# A list of features\n",
    "print(geocode_result[0][\"location\"][\"y\"])\n",
    "print(geocode_result[0][\"location\"][\"x\"])\n"
   ]
  },
  {
   "cell_type": "code",
   "execution_count": 18,
   "metadata": {},
   "outputs": [
    {
     "data": {
      "application/vnd.jupyter.widget-view+json": {
       "model_id": "3e1aab6ec8e143c0b58e04a6d536f729",
       "version_major": 2,
       "version_minor": 0
      },
      "text/plain": [
       "MapView(layout=Layout(height='400px', width='100%'), zoom=10.0)"
      ]
     },
     "metadata": {},
     "output_type": "display_data"
    },
    {
     "data": {
      "text/html": [
       "<div class=\"map-static-img-preview-60a75c92-8a8a-4618-8baf-563e8786bd0b\"><img src=\"\"></img></div>"
      ],
      "text/plain": [
       "<IPython.core.display.HTML object>"
      ]
     },
     "metadata": {},
     "output_type": "display_data"
    }
   ],
   "source": [
    "gis.map(location = (42.246480000000076,-71.20801999999998), zoomlevel = 10)"
   ]
  },
  {
   "cell_type": "code",
   "execution_count": null,
   "metadata": {},
   "outputs": [],
   "source": []
  }
 ],
 "metadata": {
  "kernelspec": {
   "display_name": "Python 3",
   "language": "python",
   "name": "python3"
  },
  "language_info": {
   "codemirror_mode": {
    "name": "ipython",
    "version": 3
   },
   "file_extension": ".py",
   "mimetype": "text/x-python",
   "name": "python",
   "nbconvert_exporter": "python",
   "pygments_lexer": "ipython3",
   "version": "3.7.3"
  }
 },
 "nbformat": 4,
 "nbformat_minor": 2
}
