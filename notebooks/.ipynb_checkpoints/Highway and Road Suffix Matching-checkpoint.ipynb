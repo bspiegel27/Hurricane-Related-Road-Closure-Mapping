{
 "cells": [
  {
   "cell_type": "markdown",
   "metadata": {},
   "source": [
    "#### Import Libraries for Scraping"
   ]
  },
  {
   "cell_type": "code",
   "execution_count": 2,
   "metadata": {},
   "outputs": [],
   "source": [
    "import pandas as pd\n",
    "import numpy as np\n",
    "import matplotlib.pyplot as plt\n",
    "from bs4 import BeautifulSoup\n",
    "from nltk.stem import WordNetLemmatizer\n",
    "from nltk.tokenize import RegexpTokenizer\n",
    "from sklearn.feature_extraction.text import CountVectorizer, TfidfVectorizer\n",
    "from sklearn.feature_extraction import stop_words"
   ]
  },
  {
   "cell_type": "markdown",
   "metadata": {},
   "source": [
    "### Road Suffix List"
   ]
  },
  {
   "cell_type": "code",
   "execution_count": 3,
   "metadata": {},
   "outputs": [],
   "source": [
    "road_suffix_df = pd.read_csv(\"../Data/Road_Suffix_List.csv\")"
   ]
  },
  {
   "cell_type": "code",
   "execution_count": 4,
   "metadata": {},
   "outputs": [],
   "source": [
    "suffix_list = list(set(road_suffix_df[\"Primary Street Name\"].str.lower().tolist()))"
   ]
  },
  {
   "cell_type": "code",
   "execution_count": 5,
   "metadata": {},
   "outputs": [],
   "source": [
    "suffix_dict = {}\n",
    "for roads in road_suffix_df.index:\n",
    "    name = road_suffix_df.loc[roads, \"Primary Street Name\"]\n",
    "    suffix_dict[name] = road_suffix_df[road_suffix_df[\"Primary Street Name\"] == name][\"Abbreviations\"].str.lower().to_list()"
   ]
  },
  {
   "cell_type": "code",
   "execution_count": 6,
   "metadata": {},
   "outputs": [],
   "source": [
    "suffix_dict[\"ROUTE\"] = [\"route\", \"rte\"]"
   ]
  },
  {
   "cell_type": "code",
   "execution_count": 43,
   "metadata": {},
   "outputs": [],
   "source": [
    "def check_road_suffix(text, suffix_dict):\n",
    "    text_suffix = []\n",
    "    for suffix, abbrevs in suffix_dict.items():\n",
    "        for abbrev in abbrevs:\n",
    "            if abbrev in text:\n",
    "                text_suffix.append(suffix)\n",
    "    return text_suffix"
   ]
  },
  {
   "cell_type": "code",
   "execution_count": 46,
   "metadata": {},
   "outputs": [
    {
     "data": {
      "text/plain": [
       "['ROAD']"
      ]
     },
     "execution_count": 46,
     "metadata": {},
     "output_type": "execute_result"
    }
   ],
   "source": [
    "check_road_suffix(\"asdasrd\", suffix_dict)"
   ]
  },
  {
   "cell_type": "markdown",
   "metadata": {},
   "source": [
    "### Scrape Main Interstate Highways"
   ]
  },
  {
   "cell_type": "code",
   "execution_count": 8,
   "metadata": {},
   "outputs": [],
   "source": [
    "interstate_df = pd.read_csv(\"../Data/Interstate_List.csv\")"
   ]
  },
  {
   "cell_type": "code",
   "execution_count": 9,
   "metadata": {},
   "outputs": [],
   "source": [
    "interstate_list = list(set(interstate_df[\"Interstate Highway\"].tolist()))"
   ]
  },
  {
   "cell_type": "code",
   "execution_count": 10,
   "metadata": {},
   "outputs": [],
   "source": [
    "interstate_dict = {}\n",
    "for interstate in interstate_list:\n",
    "    interstate_dict[interstate] = {\"states\" : interstate_df[interstate_df[\"Interstate Highway\"] == interstate][\"State\"].to_list(),\n",
    "                                   \"names\" : []}"
   ]
  },
  {
   "cell_type": "code",
   "execution_count": 11,
   "metadata": {},
   "outputs": [],
   "source": [
    "for roads, values in interstate_dict.items():\n",
    "    lst = []\n",
    "    lower = roads.lower()\n",
    "    space = lower.replace(\"-\", \" \")\n",
    "    remove = lower.replace(\"-\", \"\")\n",
    "    lst.append(lower)\n",
    "    lst.append(space)\n",
    "    lst.append(remove)\n",
    "    base_list = [lower, space, remove]\n",
    "    replacements = [{\"i\" : \"interstate\"}]\n",
    "    for dicts in replacements:\n",
    "        keys = list(dicts.keys())[0]\n",
    "        values = list(dicts.values())[0]\n",
    "        for bases in base_list:\n",
    "            lst.append(bases.replace(keys, values))\n",
    "    interstate_dict[roads][\"names\"] = lst"
   ]
  },
  {
   "cell_type": "code",
   "execution_count": 12,
   "metadata": {},
   "outputs": [],
   "source": [
    "def get_state_interstates(state, i_dict):\n",
    "    new_dict = {}\n",
    "    for roads, values in i_dict.items():\n",
    "        if(state in i_dict[roads][\"states\"]):\n",
    "            new_dict[roads] = i_dict[roads][\"names\"]\n",
    "    return new_dict"
   ]
  },
  {
   "cell_type": "code",
   "execution_count": 13,
   "metadata": {},
   "outputs": [],
   "source": [
    "virginia_interstates = get_state_interstates(\"Virginia\", interstate_dict)\n",
    "texas_interstates = get_state_interstates(\"Texas\", interstate_dict)\n",
    "ncarolina_interstates = get_state_interstates(\"North Carolina\", interstate_dict)\n",
    "scarolina_interstates = get_state_interstates(\"South Carolina\", interstate_dict)\n",
    "florida_interstates = get_state_interstates(\"Florida\", interstate_dict)"
   ]
  },
  {
   "cell_type": "markdown",
   "metadata": {},
   "source": [
    "## Auxiliary Interstate Roads"
   ]
  },
  {
   "cell_type": "code",
   "execution_count": 14,
   "metadata": {},
   "outputs": [],
   "source": [
    "aux_df = pd.read_csv(\"../Data/Auxiliary_List.csv\")"
   ]
  },
  {
   "cell_type": "code",
   "execution_count": 15,
   "metadata": {},
   "outputs": [],
   "source": [
    "aux_list = list(set(aux_df[\"Interstate Route\"].tolist()))"
   ]
  },
  {
   "cell_type": "code",
   "execution_count": 16,
   "metadata": {},
   "outputs": [],
   "source": [
    "aux_dict = {}"
   ]
  },
  {
   "cell_type": "code",
   "execution_count": 17,
   "metadata": {},
   "outputs": [],
   "source": [
    "for aux_routes in aux_list:\n",
    "    aux_dict[aux_routes] = {\"states\" : [], \"names\" : []}"
   ]
  },
  {
   "cell_type": "code",
   "execution_count": 18,
   "metadata": {},
   "outputs": [],
   "source": [
    "for highways, values in aux_dict.items():\n",
    "    values[\"states\"] = aux_df[aux_df[\"Interstate Route\"] == highways][\"State\"].to_list()"
   ]
  },
  {
   "cell_type": "code",
   "execution_count": 19,
   "metadata": {},
   "outputs": [],
   "source": [
    "for roads, values in aux_dict.items():\n",
    "    lst = []\n",
    "    lower = roads.lower()\n",
    "    space = lower.replace(\"-\", \" \")\n",
    "    remove = lower.replace(\"-\", \"\")\n",
    "    lst.append(lower)\n",
    "    lst.append(space)\n",
    "    lst.append(remove)\n",
    "    base_list = [lower, space, remove]\n",
    "    replacements = [{\"i\" : \"interstate\"}]\n",
    "    for dicts in replacements:\n",
    "        keys = list(dicts.keys())[0]\n",
    "        values = list(dicts.values())[0]\n",
    "        for bases in base_list:\n",
    "            lst.append(bases.replace(keys, values))\n",
    "    aux_dict[roads][\"names\"] = lst"
   ]
  },
  {
   "cell_type": "code",
   "execution_count": 20,
   "metadata": {},
   "outputs": [],
   "source": [
    "virginia_aux = get_state_interstates(\"Virginia\", aux_dict)\n",
    "ncarolina_aux = get_state_interstates(\"North Carolina\", aux_dict)\n",
    "scarolina_aux = get_state_interstates(\"South Carolina\", aux_dict)\n",
    "florida_aux = get_state_interstates(\"Florida\", aux_dict)\n",
    "texas_aux = get_state_interstates(\"Texas\", aux_dict)"
   ]
  },
  {
   "cell_type": "markdown",
   "metadata": {},
   "source": [
    "## US Routes"
   ]
  },
  {
   "cell_type": "code",
   "execution_count": 21,
   "metadata": {
    "scrolled": true
   },
   "outputs": [],
   "source": [
    "us_routes_df = pd.read_csv(\"../Data/US_Routes.csv\")"
   ]
  },
  {
   "cell_type": "code",
   "execution_count": 22,
   "metadata": {},
   "outputs": [],
   "source": [
    "us_routes_dict = {}\n",
    "for roads in us_routes_df.index:\n",
    "    us_routes_dict[us_routes_df.loc[roads, \"US Routes\"]] = []"
   ]
  },
  {
   "cell_type": "code",
   "execution_count": 23,
   "metadata": {},
   "outputs": [],
   "source": [
    "for roads in us_routes_df.index:\n",
    "    name = us_routes_df.loc[roads, \"US Routes\"]\n",
    "    lst = []\n",
    "    lower = name.lower()\n",
    "    dash = lower.replace(\" \", \"-\")\n",
    "    remove = lower.replace(\" \", \"\")\n",
    "    lst.append(lower)\n",
    "    lst.append(dash)\n",
    "    lst.append(remove)\n",
    "    base_list = [lower, dash, remove]\n",
    "    replacements = [{\"us\" : \"u.s.\"},\n",
    "                   {\"us\" : \"us route\"},\n",
    "                   {\"us\" : \"u.s. route\"},\n",
    "                   {\"us\" : \"us rte\"},\n",
    "                   {\"us\" : \"u.s. rte\"},\n",
    "                   {\"us\" : \"us-route\"},\n",
    "                   {\"us\" : \"u.s.-route\"},\n",
    "                   {\"us\" : \"us-rte\"},\n",
    "                   {\"us\" : \"u.s.-rte\"}]\n",
    "    for dicts in replacements:\n",
    "        keys = list(dicts.keys())[0]\n",
    "        values = list(dicts.values())[0]\n",
    "        for bases in base_list:\n",
    "            lst.append(bases.replace(keys, values))\n",
    "    us_routes_dict[name] = lst    "
   ]
  },
  {
   "cell_type": "markdown",
   "metadata": {},
   "source": [
    "## State Routes"
   ]
  },
  {
   "cell_type": "code",
   "execution_count": 24,
   "metadata": {},
   "outputs": [],
   "source": [
    "state_roads_df = pd.read_csv(\"../Data/State_Road_List.csv\")"
   ]
  },
  {
   "cell_type": "code",
   "execution_count": 25,
   "metadata": {},
   "outputs": [],
   "source": [
    "texas_roads_df = state_roads_df[state_roads_df[\"State\"] == \"Texas\"][[\"Road Type\", \"Name\"]]\n",
    "ncarolina_roads_df = state_roads_df[state_roads_df[\"State\"] == \"North Carolina\"][[\"Road Type\", \"Name\"]]\n",
    "scarolina_roads_df = state_roads_df[state_roads_df[\"State\"] == \"South Carolina\"][[\"Road Type\", \"Name\"]]\n",
    "florida_roads_df = state_roads_df[state_roads_df[\"State\"] == \"Florida\"][[\"Road Type\", \"Name\"]]\n",
    "virginia_roads_df = state_roads_df[state_roads_df[\"State\"] == \"Virginia\"][[\"Road Type\", \"Name\"]]"
   ]
  },
  {
   "cell_type": "markdown",
   "metadata": {},
   "source": [
    "### Create dictionaries for each state that contain state roads as keys and list \"names\" to be populated with alternative spellings"
   ]
  },
  {
   "cell_type": "code",
   "execution_count": 26,
   "metadata": {},
   "outputs": [],
   "source": [
    "texas_roads_dict = {}\n",
    "for roads in texas_roads_df.index:\n",
    "    texas_roads_dict[texas_roads_df.loc[roads, \"Name\"]] = []"
   ]
  },
  {
   "cell_type": "code",
   "execution_count": 27,
   "metadata": {},
   "outputs": [],
   "source": [
    "ncarolina_roads_dict = {}\n",
    "for roads in ncarolina_roads_df.index:\n",
    "    ncarolina_roads_dict[ncarolina_roads_df.loc[roads, \"Name\"]] = []"
   ]
  },
  {
   "cell_type": "code",
   "execution_count": 28,
   "metadata": {},
   "outputs": [],
   "source": [
    "scarolina_roads_dict = {}\n",
    "for roads in scarolina_roads_df.index:\n",
    "    scarolina_roads_dict[scarolina_roads_df.loc[roads, \"Name\"]] = []"
   ]
  },
  {
   "cell_type": "code",
   "execution_count": 29,
   "metadata": {},
   "outputs": [],
   "source": [
    "florida_roads_dict = {}\n",
    "for roads in florida_roads_df.index:\n",
    "    florida_roads_dict[florida_roads_df.loc[roads, \"Name\"]] = []"
   ]
  },
  {
   "cell_type": "code",
   "execution_count": 30,
   "metadata": {},
   "outputs": [],
   "source": [
    "virginia_roads_dict = {}\n",
    "for roads in virginia_roads_df.index:\n",
    "    virginia_roads_dict[virginia_roads_df.loc[roads, \"Name\"]] = []"
   ]
  },
  {
   "cell_type": "markdown",
   "metadata": {},
   "source": [
    "### Create list of alternative highway/road spellings for each state highway"
   ]
  },
  {
   "cell_type": "code",
   "execution_count": 31,
   "metadata": {},
   "outputs": [],
   "source": [
    "for roads in texas_roads_df.index:\n",
    "    name = texas_roads_df.loc[roads, \"Name\"]\n",
    "    road_type = texas_roads_df.loc[roads, \"Road Type\"]\n",
    "    lst = []\n",
    "    lower = name.lower()\n",
    "    dash = lower.replace(\" \", \"-\")\n",
    "    remove = lower.replace(\" \", \"\")\n",
    "    lst.append(lower)\n",
    "    lst.append(dash)\n",
    "    lst.append(remove)\n",
    "    base_list = [lower, dash, remove]\n",
    "    if(road_type == \"State Highway\"):\n",
    "        for abbrevs in suffix_dict[\"HIGHWAY\"]:\n",
    "            lst.append(lower.replace(\"sh\", \"state \" + abbrevs.lower()))\n",
    "            lst.append(lower.replace(\"sh\", \"st \" + abbrevs.lower()))\n",
    "            lst.append(dash.replace(\"sh\", \"state \" + abbrevs.lower()))\n",
    "            lst.append(dash.replace(\"sh\", \"st \" + abbrevs.lower()))\n",
    "            lst.append(remove.replace(\"sh\", \"state \" + abbrevs.lower()))\n",
    "            lst.append(remove.replace(\"sh\", \"st \" + abbrevs.lower()))\n",
    "            lst.append(lower.replace(\"sh\", \"state \" + abbrevs.lower() + \"s\"))\n",
    "            lst.append(lower.replace(\"sh\", \"st \" + abbrevs.lower() + \"s\"))\n",
    "            lst.append(dash.replace(\"sh\", \"state \" + abbrevs.lower() + \"s\"))\n",
    "            lst.append(dash.replace(\"sh\", \"st \" + abbrevs.lower() + \"s\"))\n",
    "            lst.append(remove.replace(\"sh\", \"state \" + abbrevs.lower() + \"s\"))\n",
    "            lst.append(remove.replace(\"sh\", \"st \" + abbrevs.lower() + \"s\"))\n",
    "    replacements = [{\"loop\" : \"sl\"},\n",
    "                    {\"fm\" : \"farm to market\"},\n",
    "                    {\"fm\" : \"farm-to-market\"},\n",
    "                    {\"fm\" : \"farm to market road\"},\n",
    "                    {\"fm\" : \"farm-to-market road\"},\n",
    "                    {\"fm\" : \"farm to market roads\"},\n",
    "                    {\"fm\" : \"farm-to-market roads\"},\n",
    "                    {\"pr\" : \"park road\"},\n",
    "                    {\"recreational road\" : \"re\"},\n",
    "                    {\"recreational road\" : \"recreational roads\"},\n",
    "                    {\"ranch road\" : \"rr\"}]\n",
    "    for dicts in replacements:\n",
    "        keys = list(dicts.keys())[0]\n",
    "        values = list(dicts.values())[0]\n",
    "        for bases in base_list:\n",
    "            lst.append(bases.replace(keys, values))\n",
    "    texas_roads_dict[name] = lst    "
   ]
  },
  {
   "cell_type": "code",
   "execution_count": 32,
   "metadata": {},
   "outputs": [],
   "source": [
    "for roads in ncarolina_roads_df.index:\n",
    "    name = ncarolina_roads_df.loc[roads, \"Name\"]\n",
    "    road_type = ncarolina_roads_df.loc[roads, \"Road Type\"]\n",
    "    lst = []\n",
    "    lower = name.lower()\n",
    "    dash = lower.replace(\" \", \"-\")\n",
    "    remove = lower.replace(\" \", \"\")\n",
    "    lst.append(lower)\n",
    "    lst.append(dash)\n",
    "    lst.append(remove)\n",
    "    base_list = [lower, dash, remove]\n",
    "    for abbrevs in suffix_dict[\"HIGHWAY\"]:\n",
    "        for bases in base_list:\n",
    "            lst.append(bases.replace(\"nc\", abbrevs))\n",
    "    ncarolina_roads_dict[name] = lst    "
   ]
  },
  {
   "cell_type": "code",
   "execution_count": 33,
   "metadata": {},
   "outputs": [],
   "source": [
    "for roads in scarolina_roads_df.index:\n",
    "    name = scarolina_roads_df.loc[roads, \"Name\"]\n",
    "    road_type = scarolina_roads_df.loc[roads, \"Road Type\"]\n",
    "    lst = []\n",
    "    lower = name.lower()\n",
    "    dash = lower.replace(\" \", \"-\")\n",
    "    remove = lower.replace(\" \", \"\")\n",
    "    lst.append(lower)\n",
    "    lst.append(dash)\n",
    "    lst.append(remove)\n",
    "    base_list = [lower, dash, remove]\n",
    "    for abbrevs in suffix_dict[\"HIGHWAY\"]:\n",
    "        for bases in base_list:\n",
    "            lst.append(bases.replace(\"sc\", abbrevs))\n",
    "    scarolina_roads_dict[name] = lst    "
   ]
  },
  {
   "cell_type": "code",
   "execution_count": 34,
   "metadata": {},
   "outputs": [],
   "source": [
    "for roads in virginia_roads_df.index:\n",
    "    name = virginia_roads_df.loc[roads, \"Name\"]\n",
    "    road_type = virginia_roads_df.loc[roads, \"Road Type\"]\n",
    "    lst = []\n",
    "    lower = name.lower()\n",
    "    dash = lower.replace(\" \", \"-\")\n",
    "    remove = lower.replace(\" \", \"\")\n",
    "    lst.append(lower)\n",
    "    lst.append(dash)\n",
    "    lst.append(remove)\n",
    "    base_list = [lower, dash, remove]\n",
    "    for bases in base_list:\n",
    "        lst.append(bases.replace(\"sr\", \"state route\"))\n",
    "        lst.append(bases.replace(\"sr\", \"st route\"))\n",
    "        lst.append(bases.replace(\"sr\", \"state rte\"))\n",
    "        lst.append(bases.replace(\"sr\", \"st rte \"))\n",
    "    virginia_roads_dict[name] = lst"
   ]
  },
  {
   "cell_type": "code",
   "execution_count": 35,
   "metadata": {},
   "outputs": [],
   "source": [
    "for roads in florida_roads_df.index:\n",
    "    name = florida_roads_df.loc[roads, \"Name\"]\n",
    "    road_type = florida_roads_df.loc[roads, \"Road Type\"]\n",
    "    lst = []\n",
    "    lower = name.lower()\n",
    "    dash = lower.replace(\" \", \"-\")\n",
    "    remove = lower.replace(\" \", \"\")\n",
    "    lst.append(lower)\n",
    "    lst.append(dash)\n",
    "    lst.append(remove)\n",
    "    base_list = [lower, dash, remove]\n",
    "    replacements = [{\"sr\" : \"state road\"},\n",
    "                    {\"sr\" : \"state rd\"},\n",
    "                    {\"sr\" : \"st road\"},\n",
    "                    {\"sr\" : \"st rd\"},\n",
    "                    {\"causeway\" : \"causwa\"},\n",
    "                    {\"causeway\" : \"cswy\"},\n",
    "                    {\"bridge\" : \"brdge\"},\n",
    "                    {\"bridge\" : \"brg\"},\n",
    "                   {\"road\" : \"rd\"},\n",
    "                   {\"expresway\" : \"exp\"},\n",
    "                   {\"expresway\" : \"expr\"},\n",
    "                   {\"expresway\" : \"express\"},\n",
    "                   {\"expresway\" : \"expw\"},\n",
    "                   {\"expresway\" : \"expy\"}]\n",
    "    for dicts in replacements:\n",
    "        keys = list(dicts.keys())[0]\n",
    "        values = list(dicts.values())[0]\n",
    "        for bases in base_list:\n",
    "            lst.append(bases.replace(keys, values))\n",
    "    florida_roads_dict[name] = lst    "
   ]
  },
  {
   "cell_type": "markdown",
   "metadata": {},
   "source": [
    "## Create dictionary containing a list of roads relevant to each state"
   ]
  },
  {
   "cell_type": "code",
   "execution_count": 36,
   "metadata": {},
   "outputs": [],
   "source": [
    "master_road_dict = {\"Florida\" : [florida_interstates, florida_aux, us_routes_dict, florida_roads_dict],\n",
    "                   \"Virginia\" : [virginia_interstates, virginia_aux, us_routes_dict, virginia_roads_dict],\n",
    "                   \"North Carolina\" : [ncarolina_interstates, ncarolina_aux, us_routes_dict, ncarolina_roads_dict],\n",
    "                   \"South Carolina\" : [scarolina_interstates, scarolina_aux, us_routes_dict, scarolina_roads_dict],\n",
    "                   \"Texas\" : [texas_interstates, texas_aux, us_routes_dict, texas_roads_dict]}"
   ]
  },
  {
   "cell_type": "markdown",
   "metadata": {},
   "source": [
    "### Define function to check for presence of road in string"
   ]
  },
  {
   "cell_type": "code",
   "execution_count": 37,
   "metadata": {},
   "outputs": [],
   "source": [
    "def check_roads(state, road_dict, text):\n",
    "    state_roads = road_dict[state]\n",
    "    relevant_roads = []\n",
    "    for dicts in state_roads:\n",
    "        for road, abbrevs in dicts.items():\n",
    "            for abbrev in abbrevs:\n",
    "                if(abbrev in text):\n",
    "                    relevant_roads.append(road)\n",
    "    return list(set(relevant_roads))"
   ]
  },
  {
   "cell_type": "markdown",
   "metadata": {},
   "source": [
    "### Cities Towns and Counties Matching"
   ]
  },
  {
   "cell_type": "code",
   "execution_count": 47,
   "metadata": {},
   "outputs": [],
   "source": [
    "cities_list = pd.read_csv(\"../Data/Cities_List.csv\")"
   ]
  },
  {
   "cell_type": "code",
   "execution_count": 48,
   "metadata": {},
   "outputs": [],
   "source": [
    "counties_list = pd.read_csv(\"../Data/list-counties-us.csv\",  encoding='ISO-8859-1')"
   ]
  },
  {
   "cell_type": "code",
   "execution_count": 49,
   "metadata": {
    "scrolled": true
   },
   "outputs": [],
   "source": [
    "cities_list[\"City\"] = cities_list[\"City\"].str.lower()"
   ]
  },
  {
   "cell_type": "code",
   "execution_count": 50,
   "metadata": {},
   "outputs": [],
   "source": [
    "counties_list[\"County or equivalent\"] = counties_list[\"County or equivalent\"].str.lower()\n",
    "relevant_counties = counties_list[(counties_list[\"State or district\"] == \"Virginia\") |\n",
    "                                   (counties_list[\"State or district\"] == \"North Carolina\") |\n",
    "                                  (counties_list[\"State or district\"] == \"South Carolina\") |\n",
    "                                  (counties_list[\"State or district\"] == \"Florida\") |\n",
    "                                  (counties_list[\"State or district\"] == \"Texas\")]"
   ]
  },
  {
   "cell_type": "code",
   "execution_count": 51,
   "metadata": {},
   "outputs": [],
   "source": [
    "state_list = list(set(relevant_counties[\"State or district\"].to_list()))\n",
    "state_areas_dict = {}\n",
    "for state in state_list:\n",
    "    state_areas_dict[state] = {\"counties\" : {},\n",
    "                               \"cities\" : {}}"
   ]
  },
  {
   "cell_type": "code",
   "execution_count": 52,
   "metadata": {},
   "outputs": [],
   "source": [
    "for state in state_list:\n",
    "    counties = relevant_counties[relevant_counties[\"State or district\"] == state][\"County or equivalent\"]\n",
    "    cities = cities_list[cities_list[\"State\"] == state][\"City\"]\n",
    "    for county in counties:\n",
    "        state_areas_dict[state][\"counties\"][county] = [county,\n",
    "                                                       county.replace(\"county\", \"cty\"),\n",
    "                                                       county.replace(\"county\", \"cnty\"),\n",
    "                                                       county.replace(\" county\", \"county\"),\n",
    "                                                       county.replace(\" county\", \"cty\"),\n",
    "                                                       county.replace(\" county\", \"cnty\"),\n",
    "                                                      county.replace(\" county\", \"\")]\n",
    "    for city in cities:\n",
    "        state_areas_dict[state][\"cities\"][city] = [city]        "
   ]
  },
  {
   "cell_type": "code",
   "execution_count": 53,
   "metadata": {},
   "outputs": [],
   "source": [
    "def check_area(state, state_areas_dict, text, area_type):\n",
    "    text_areas = []\n",
    "    for area in state_areas_dict[state][area_type]:\n",
    "        for abbrev in state_areas_dict[state][area_type][area]:\n",
    "            if abbrev in text:\n",
    "                text_areas.append(area)\n",
    "    return text_areas"
   ]
  },
  {
   "cell_type": "code",
   "execution_count": 54,
   "metadata": {},
   "outputs": [],
   "source": [
    "def check_county_word(text):\n",
    "    county_abbrevs = [\"county\", \"cty\", \"cnty\"]\n",
    "    has_county = False\n",
    "    for abbrev in county_abbrevs:\n",
    "        if abbrev in text:\n",
    "            has_county = True\n",
    "    return has_county        "
   ]
  }
 ],
 "metadata": {
  "kernelspec": {
   "display_name": "Python 3",
   "language": "python",
   "name": "python3"
  },
  "language_info": {
   "codemirror_mode": {
    "name": "ipython",
    "version": 3
   },
   "file_extension": ".py",
   "mimetype": "text/x-python",
   "name": "python",
   "nbconvert_exporter": "python",
   "pygments_lexer": "ipython3",
   "version": "3.7.3"
  }
 },
 "nbformat": 4,
 "nbformat_minor": 2
}
