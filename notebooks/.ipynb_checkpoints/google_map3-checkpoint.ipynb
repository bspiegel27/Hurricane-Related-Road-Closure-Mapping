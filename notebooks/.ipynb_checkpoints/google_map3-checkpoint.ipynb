{
 "cells": [
  {
   "cell_type": "code",
   "execution_count": 1,
   "metadata": {},
   "outputs": [],
   "source": [
    "from arcgis.gis import GIS\n",
    "from arcgis.geocoding import geocode, reverse_geocode\n",
    "from arcgis.geocoding import get_geocoders, batch_geocode\n",
    "from arcgis.geometry import Point"
   ]
  },
  {
   "cell_type": "code",
   "execution_count": 2,
   "metadata": {},
   "outputs": [],
   "source": [
    "gis = GIS(\"https://www.arcgis.com\",\n",
    "          \"jly0505\",\n",
    "          \"DSIBoston19\")"
   ]
  },
  {
   "cell_type": "code",
   "execution_count": 3,
   "metadata": {},
   "outputs": [
    {
     "name": "stdout",
     "output_type": "stream",
     "text": [
      "MaxBatchSize : 1000\n",
      "SuggestedBatchSize : 150\n"
     ]
    }
   ],
   "source": [
    "# use the first of GIS's configured geocoders\n",
    "geocoder = get_geocoders(gis)[0]\n",
    "\n",
    "print(\"MaxBatchSize : \" + str(geocoder.properties.locatorProperties.MaxBatchSize))\n",
    "print(\"SuggestedBatchSize : \" + str(geocoder.properties.locatorProperties.SuggestedBatchSize))"
   ]
  },
  {
   "cell_type": "code",
   "execution_count": 4,
   "metadata": {},
   "outputs": [],
   "source": [
    "addresses = [\"380 New York St, Redlands, CA\", \n",
    "             \"1 World Way, Los Angeles, CA\",\n",
    "             \"1200 Getty Center Drive, Los Angeles, CA\", \n",
    "             \"5905 Wilshire Boulevard, Los Angeles, CA\",\n",
    "             \"100 Universal City Plaza, Universal City, CA 91608\",\n",
    "             \"4800 Oak Grove Dr, Pasadena, CA 91109\"]"
   ]
  },
  {
   "cell_type": "code",
   "execution_count": 5,
   "metadata": {},
   "outputs": [],
   "source": [
    "results = batch_geocode(addresses)"
   ]
  },
  {
   "cell_type": "code",
   "execution_count": 13,
   "metadata": {},
   "outputs": [],
   "source": [
    "#results = batch_geocode(addresses, category = \"Highway Exit\")"
   ]
  },
  {
   "cell_type": "code",
   "execution_count": 20,
   "metadata": {},
   "outputs": [],
   "source": [
    "results = batch_geocode(addresses)"
   ]
  },
  {
   "cell_type": "code",
   "execution_count": 21,
   "metadata": {},
   "outputs": [],
   "source": [
    "red_pin = {\"angle\":0,\"xoffset\":0,\"yoffset\":12,\"type\":\"esriPMS\",\n",
    "          \"url\":\"http://static.arcgis.com/images/Symbols/Basic/RedStickpin.png\",\n",
    "          \"contentType\":\"image/png\",\"width\":24,\"height\":24}"
   ]
  },
  {
   "cell_type": "code",
   "execution_count": 17,
   "metadata": {
    "scrolled": true
   },
   "outputs": [
    {
     "data": {
      "application/vnd.jupyter.widget-view+json": {
       "model_id": "377838c62bf74ed0a79b6320bca4fefb",
       "version_major": 2,
       "version_minor": 0
      },
      "text/plain": [
       "MapView(layout=Layout(height='400px', width='100%'), zoom=9.0)"
      ]
     },
     "metadata": {},
     "output_type": "display_data"
    },
    {
     "data": {
      "text/html": [
       "<div class=\"map-static-img-preview-21b657cf-caae-4088-98e6-f5cd73508ca0\"><img src=\"\"></img></div>"
      ],
      "text/plain": [
       "<IPython.core.display.HTML object>"
      ]
     },
     "metadata": {},
     "output_type": "display_data"
    }
   ],
   "source": [
    "map2 = gis.map(\"Los Angeles\", 9)\n",
    "map2"
   ]
  },
  {
   "cell_type": "code",
   "execution_count": 22,
   "metadata": {},
   "outputs": [],
   "source": [
    "for address in results:\n",
    "    map2.draw(address['location'], symbol=red_pin)"
   ]
  },
  {
   "cell_type": "code",
   "execution_count": null,
   "metadata": {
    "scrolled": true
   },
   "outputs": [],
   "source": [
    "results[0].keys()"
   ]
  },
  {
   "cell_type": "code",
   "execution_count": 23,
   "metadata": {},
   "outputs": [],
   "source": [
    "lat_long = [\"42.353277, -71.057454\", \n",
    "             \"42.356108, -71.058334\",\n",
    "             \"42.357544, -71.053518\", \n",
    "             \"42.353125, -71.052583\",\n",
    "             \"42.353877, -71.059891\",\n",
    "             \"42.350262, -71.063061\"]"
   ]
  },
  {
   "cell_type": "code",
   "execution_count": 26,
   "metadata": {
    "scrolled": true
   },
   "outputs": [
    {
     "data": {
      "application/vnd.jupyter.widget-view+json": {
       "model_id": "1db27e38cf3b450d91696e9b01dedeb0",
       "version_major": 2,
       "version_minor": 0
      },
      "text/plain": [
       "MapView(layout=Layout(height='400px', width='100%'), zoom=9.0)"
      ]
     },
     "metadata": {},
     "output_type": "display_data"
    },
    {
     "data": {
      "text/html": [
       "<div class=\"map-static-img-preview-6f0face2-a89a-42da-a8ca-ebf0ccfebb40\"><img src=\"\"></img></div>"
      ],
      "text/plain": [
       "<IPython.core.display.HTML object>"
      ]
     },
     "metadata": {},
     "output_type": "display_data"
    }
   ],
   "source": [
    "map1 = gis.map(\"boston\", 9)\n",
    "map1"
   ]
  },
  {
   "cell_type": "code",
   "execution_count": 27,
   "metadata": {},
   "outputs": [
    {
     "data": {
      "text/plain": [
       "[{'address': '42.353277 -71.057454',\n",
       "  'location': {'x': 42.35327700000005, 'y': -71.05745399999995},\n",
       "  'score': 100,\n",
       "  'attributes': {'ResultID': 0,\n",
       "   'Loc_name': 'World',\n",
       "   'Status': 'T',\n",
       "   'Score': 100,\n",
       "   'Match_addr': '42.353277 -71.057454',\n",
       "   'LongLabel': '71°03\\'26.834\"S 42°21\\'11.797\"E',\n",
       "   'ShortLabel': '42.353277 -71.057454',\n",
       "   'Addr_type': 'LatLong',\n",
       "   'Type': '',\n",
       "   'PlaceName': '',\n",
       "   'Place_addr': '',\n",
       "   'Phone': '',\n",
       "   'URL': '',\n",
       "   'Rank': 0,\n",
       "   'AddBldg': '',\n",
       "   'AddNum': '',\n",
       "   'AddNumFrom': '',\n",
       "   'AddNumTo': '',\n",
       "   'AddRange': '',\n",
       "   'Side': '',\n",
       "   'StPreDir': '',\n",
       "   'StPreType': '',\n",
       "   'StName': '',\n",
       "   'StType': '',\n",
       "   'StDir': '',\n",
       "   'BldgType': '',\n",
       "   'BldgName': '',\n",
       "   'LevelType': '',\n",
       "   'LevelName': '',\n",
       "   'UnitType': '',\n",
       "   'UnitName': '',\n",
       "   'SubAddr': '',\n",
       "   'StAddr': '',\n",
       "   'Block': '',\n",
       "   'Sector': '',\n",
       "   'Nbrhd': '',\n",
       "   'District': '',\n",
       "   'City': '',\n",
       "   'MetroArea': '',\n",
       "   'Subregion': '',\n",
       "   'Region': '',\n",
       "   'RegionAbbr': '',\n",
       "   'Territory': '',\n",
       "   'Zone': '',\n",
       "   'Postal': '',\n",
       "   'PostalExt': '',\n",
       "   'Country': '',\n",
       "   'LangCode': '',\n",
       "   'Distance': 0,\n",
       "   'X': 42.353277,\n",
       "   'Y': -71.057454,\n",
       "   'DisplayX': 42.353277,\n",
       "   'DisplayY': -71.057454,\n",
       "   'Xmin': 42.352277,\n",
       "   'Xmax': 42.354276999999996,\n",
       "   'Ymin': -71.05845400000001,\n",
       "   'Ymax': -71.056454,\n",
       "   'ExInfo': ''}},\n",
       " {'address': '42.356108 -71.058334',\n",
       "  'location': {'x': 42.35610800000006, 'y': -71.05833399999995},\n",
       "  'score': 100,\n",
       "  'attributes': {'ResultID': 1,\n",
       "   'Loc_name': 'World',\n",
       "   'Status': 'T',\n",
       "   'Score': 100,\n",
       "   'Match_addr': '42.356108 -71.058334',\n",
       "   'LongLabel': '71°03\\'30.002\"S 42°21\\'21.988\"E',\n",
       "   'ShortLabel': '42.356108 -71.058334',\n",
       "   'Addr_type': 'LatLong',\n",
       "   'Type': '',\n",
       "   'PlaceName': '',\n",
       "   'Place_addr': '',\n",
       "   'Phone': '',\n",
       "   'URL': '',\n",
       "   'Rank': 0,\n",
       "   'AddBldg': '',\n",
       "   'AddNum': '',\n",
       "   'AddNumFrom': '',\n",
       "   'AddNumTo': '',\n",
       "   'AddRange': '',\n",
       "   'Side': '',\n",
       "   'StPreDir': '',\n",
       "   'StPreType': '',\n",
       "   'StName': '',\n",
       "   'StType': '',\n",
       "   'StDir': '',\n",
       "   'BldgType': '',\n",
       "   'BldgName': '',\n",
       "   'LevelType': '',\n",
       "   'LevelName': '',\n",
       "   'UnitType': '',\n",
       "   'UnitName': '',\n",
       "   'SubAddr': '',\n",
       "   'StAddr': '',\n",
       "   'Block': '',\n",
       "   'Sector': '',\n",
       "   'Nbrhd': '',\n",
       "   'District': '',\n",
       "   'City': '',\n",
       "   'MetroArea': '',\n",
       "   'Subregion': '',\n",
       "   'Region': '',\n",
       "   'RegionAbbr': '',\n",
       "   'Territory': '',\n",
       "   'Zone': '',\n",
       "   'Postal': '',\n",
       "   'PostalExt': '',\n",
       "   'Country': '',\n",
       "   'LangCode': '',\n",
       "   'Distance': 0,\n",
       "   'X': 42.356108,\n",
       "   'Y': -71.058334,\n",
       "   'DisplayX': 42.356108,\n",
       "   'DisplayY': -71.058334,\n",
       "   'Xmin': 42.355108,\n",
       "   'Xmax': 42.357108,\n",
       "   'Ymin': -71.059334,\n",
       "   'Ymax': -71.057334,\n",
       "   'ExInfo': ''}},\n",
       " {'address': '42.357544 -71.053518',\n",
       "  'location': {'x': 42.357544000000075, 'y': -71.05351799999994},\n",
       "  'score': 100,\n",
       "  'attributes': {'ResultID': 2,\n",
       "   'Loc_name': 'World',\n",
       "   'Status': 'T',\n",
       "   'Score': 100,\n",
       "   'Match_addr': '42.357544 -71.053518',\n",
       "   'LongLabel': '71°03\\'12.664\"S 42°21\\'27.158\"E',\n",
       "   'ShortLabel': '42.357544 -71.053518',\n",
       "   'Addr_type': 'LatLong',\n",
       "   'Type': '',\n",
       "   'PlaceName': '',\n",
       "   'Place_addr': '',\n",
       "   'Phone': '',\n",
       "   'URL': '',\n",
       "   'Rank': 0,\n",
       "   'AddBldg': '',\n",
       "   'AddNum': '',\n",
       "   'AddNumFrom': '',\n",
       "   'AddNumTo': '',\n",
       "   'AddRange': '',\n",
       "   'Side': '',\n",
       "   'StPreDir': '',\n",
       "   'StPreType': '',\n",
       "   'StName': '',\n",
       "   'StType': '',\n",
       "   'StDir': '',\n",
       "   'BldgType': '',\n",
       "   'BldgName': '',\n",
       "   'LevelType': '',\n",
       "   'LevelName': '',\n",
       "   'UnitType': '',\n",
       "   'UnitName': '',\n",
       "   'SubAddr': '',\n",
       "   'StAddr': '',\n",
       "   'Block': '',\n",
       "   'Sector': '',\n",
       "   'Nbrhd': '',\n",
       "   'District': '',\n",
       "   'City': '',\n",
       "   'MetroArea': '',\n",
       "   'Subregion': '',\n",
       "   'Region': '',\n",
       "   'RegionAbbr': '',\n",
       "   'Territory': '',\n",
       "   'Zone': '',\n",
       "   'Postal': '',\n",
       "   'PostalExt': '',\n",
       "   'Country': '',\n",
       "   'LangCode': '',\n",
       "   'Distance': 0,\n",
       "   'X': 42.357544,\n",
       "   'Y': -71.053518,\n",
       "   'DisplayX': 42.357544,\n",
       "   'DisplayY': -71.053518,\n",
       "   'Xmin': 42.356544,\n",
       "   'Xmax': 42.358543999999995,\n",
       "   'Ymin': -71.054518,\n",
       "   'Ymax': -71.05251799999999,\n",
       "   'ExInfo': ''}},\n",
       " {'address': '42.353125 -71.052583',\n",
       "  'location': {'x': 42.353125000000034, 'y': -71.05258299999997},\n",
       "  'score': 100,\n",
       "  'attributes': {'ResultID': 3,\n",
       "   'Loc_name': 'World',\n",
       "   'Status': 'T',\n",
       "   'Score': 100,\n",
       "   'Match_addr': '42.353125 -71.052583',\n",
       "   'LongLabel': '71°03\\'09.298\"S 42°21\\'11.250\"E',\n",
       "   'ShortLabel': '42.353125 -71.052583',\n",
       "   'Addr_type': 'LatLong',\n",
       "   'Type': '',\n",
       "   'PlaceName': '',\n",
       "   'Place_addr': '',\n",
       "   'Phone': '',\n",
       "   'URL': '',\n",
       "   'Rank': 0,\n",
       "   'AddBldg': '',\n",
       "   'AddNum': '',\n",
       "   'AddNumFrom': '',\n",
       "   'AddNumTo': '',\n",
       "   'AddRange': '',\n",
       "   'Side': '',\n",
       "   'StPreDir': '',\n",
       "   'StPreType': '',\n",
       "   'StName': '',\n",
       "   'StType': '',\n",
       "   'StDir': '',\n",
       "   'BldgType': '',\n",
       "   'BldgName': '',\n",
       "   'LevelType': '',\n",
       "   'LevelName': '',\n",
       "   'UnitType': '',\n",
       "   'UnitName': '',\n",
       "   'SubAddr': '',\n",
       "   'StAddr': '',\n",
       "   'Block': '',\n",
       "   'Sector': '',\n",
       "   'Nbrhd': '',\n",
       "   'District': '',\n",
       "   'City': '',\n",
       "   'MetroArea': '',\n",
       "   'Subregion': '',\n",
       "   'Region': '',\n",
       "   'RegionAbbr': '',\n",
       "   'Territory': '',\n",
       "   'Zone': '',\n",
       "   'Postal': '',\n",
       "   'PostalExt': '',\n",
       "   'Country': '',\n",
       "   'LangCode': '',\n",
       "   'Distance': 0,\n",
       "   'X': 42.353125,\n",
       "   'Y': -71.052583,\n",
       "   'DisplayX': 42.353125,\n",
       "   'DisplayY': -71.052583,\n",
       "   'Xmin': 42.352125,\n",
       "   'Xmax': 42.354124999999996,\n",
       "   'Ymin': -71.053583,\n",
       "   'Ymax': -71.051583,\n",
       "   'ExInfo': ''}},\n",
       " {'address': '42.353877 -71.059891',\n",
       "  'location': {'x': 42.35387700000007, 'y': -71.05989099999994},\n",
       "  'score': 100,\n",
       "  'attributes': {'ResultID': 4,\n",
       "   'Loc_name': 'World',\n",
       "   'Status': 'T',\n",
       "   'Score': 100,\n",
       "   'Match_addr': '42.353877 -71.059891',\n",
       "   'LongLabel': '71°03\\'35.607\"S 42°21\\'13.957\"E',\n",
       "   'ShortLabel': '42.353877 -71.059891',\n",
       "   'Addr_type': 'LatLong',\n",
       "   'Type': '',\n",
       "   'PlaceName': '',\n",
       "   'Place_addr': '',\n",
       "   'Phone': '',\n",
       "   'URL': '',\n",
       "   'Rank': 0,\n",
       "   'AddBldg': '',\n",
       "   'AddNum': '',\n",
       "   'AddNumFrom': '',\n",
       "   'AddNumTo': '',\n",
       "   'AddRange': '',\n",
       "   'Side': '',\n",
       "   'StPreDir': '',\n",
       "   'StPreType': '',\n",
       "   'StName': '',\n",
       "   'StType': '',\n",
       "   'StDir': '',\n",
       "   'BldgType': '',\n",
       "   'BldgName': '',\n",
       "   'LevelType': '',\n",
       "   'LevelName': '',\n",
       "   'UnitType': '',\n",
       "   'UnitName': '',\n",
       "   'SubAddr': '',\n",
       "   'StAddr': '',\n",
       "   'Block': '',\n",
       "   'Sector': '',\n",
       "   'Nbrhd': '',\n",
       "   'District': '',\n",
       "   'City': '',\n",
       "   'MetroArea': '',\n",
       "   'Subregion': '',\n",
       "   'Region': '',\n",
       "   'RegionAbbr': '',\n",
       "   'Territory': '',\n",
       "   'Zone': '',\n",
       "   'Postal': '',\n",
       "   'PostalExt': '',\n",
       "   'Country': '',\n",
       "   'LangCode': '',\n",
       "   'Distance': 0,\n",
       "   'X': 42.353877,\n",
       "   'Y': -71.059891,\n",
       "   'DisplayX': 42.353877,\n",
       "   'DisplayY': -71.059891,\n",
       "   'Xmin': 42.352877,\n",
       "   'Xmax': 42.354876999999995,\n",
       "   'Ymin': -71.060891,\n",
       "   'Ymax': -71.05889099999999,\n",
       "   'ExInfo': ''}},\n",
       " {'address': '42.350262 -71.063061',\n",
       "  'location': {'x': 42.35026200000004, 'y': -71.06306099999995},\n",
       "  'score': 100,\n",
       "  'attributes': {'ResultID': 5,\n",
       "   'Loc_name': 'World',\n",
       "   'Status': 'T',\n",
       "   'Score': 100,\n",
       "   'Match_addr': '42.350262 -71.063061',\n",
       "   'LongLabel': '71°03\\'47.019\"S 42°21\\'00.943\"E',\n",
       "   'ShortLabel': '42.350262 -71.063061',\n",
       "   'Addr_type': 'LatLong',\n",
       "   'Type': '',\n",
       "   'PlaceName': '',\n",
       "   'Place_addr': '',\n",
       "   'Phone': '',\n",
       "   'URL': '',\n",
       "   'Rank': 0,\n",
       "   'AddBldg': '',\n",
       "   'AddNum': '',\n",
       "   'AddNumFrom': '',\n",
       "   'AddNumTo': '',\n",
       "   'AddRange': '',\n",
       "   'Side': '',\n",
       "   'StPreDir': '',\n",
       "   'StPreType': '',\n",
       "   'StName': '',\n",
       "   'StType': '',\n",
       "   'StDir': '',\n",
       "   'BldgType': '',\n",
       "   'BldgName': '',\n",
       "   'LevelType': '',\n",
       "   'LevelName': '',\n",
       "   'UnitType': '',\n",
       "   'UnitName': '',\n",
       "   'SubAddr': '',\n",
       "   'StAddr': '',\n",
       "   'Block': '',\n",
       "   'Sector': '',\n",
       "   'Nbrhd': '',\n",
       "   'District': '',\n",
       "   'City': '',\n",
       "   'MetroArea': '',\n",
       "   'Subregion': '',\n",
       "   'Region': '',\n",
       "   'RegionAbbr': '',\n",
       "   'Territory': '',\n",
       "   'Zone': '',\n",
       "   'Postal': '',\n",
       "   'PostalExt': '',\n",
       "   'Country': '',\n",
       "   'LangCode': '',\n",
       "   'Distance': 0,\n",
       "   'X': 42.350262,\n",
       "   'Y': -71.063061,\n",
       "   'DisplayX': 42.350262,\n",
       "   'DisplayY': -71.063061,\n",
       "   'Xmin': 42.349262,\n",
       "   'Xmax': 42.351262,\n",
       "   'Ymin': -71.06406100000001,\n",
       "   'Ymax': -71.062061,\n",
       "   'ExInfo': ''}}]"
      ]
     },
     "execution_count": 27,
     "metadata": {},
     "output_type": "execute_result"
    }
   ],
   "source": [
    "results1 = batch_geocode(lat_long)\n",
    "results1"
   ]
  },
  {
   "cell_type": "code",
   "execution_count": 29,
   "metadata": {
    "scrolled": true
   },
   "outputs": [
    {
     "ename": "TypeError",
     "evalue": "list indices must be integers or slices, not str",
     "output_type": "error",
     "traceback": [
      "\u001b[1;31m---------------------------------------------------------------------------\u001b[0m",
      "\u001b[1;31mTypeError\u001b[0m                                 Traceback (most recent call last)",
      "\u001b[1;32m<ipython-input-29-f9b673ebb300>\u001b[0m in \u001b[0;36m<module>\u001b[1;34m\u001b[0m\n\u001b[0;32m      1\u001b[0m \u001b[1;32mfor\u001b[0m \u001b[0mlad_long\u001b[0m \u001b[1;32min\u001b[0m \u001b[0mresults1\u001b[0m\u001b[1;33m:\u001b[0m\u001b[1;33m\u001b[0m\u001b[1;33m\u001b[0m\u001b[0m\n\u001b[1;32m----> 2\u001b[1;33m     \u001b[0mmap1\u001b[0m\u001b[1;33m.\u001b[0m\u001b[0mdraw\u001b[0m\u001b[1;33m(\u001b[0m\u001b[0mlat_long\u001b[0m\u001b[1;33m[\u001b[0m\u001b[1;34m'address'\u001b[0m\u001b[1;33m]\u001b[0m\u001b[1;33m,\u001b[0m \u001b[0msymbol\u001b[0m\u001b[1;33m=\u001b[0m\u001b[0mred_pin\u001b[0m\u001b[1;33m)\u001b[0m\u001b[1;33m\u001b[0m\u001b[1;33m\u001b[0m\u001b[0m\n\u001b[0m",
      "\u001b[1;31mTypeError\u001b[0m: list indices must be integers or slices, not str"
     ]
    }
   ],
   "source": [
    "for lad_long in results1:\n",
    "    map1.draw(lat_long['address'], symbol=red_pin)"
   ]
  },
  {
   "cell_type": "code",
   "execution_count": 30,
   "metadata": {
    "scrolled": true
   },
   "outputs": [
    {
     "ename": "TypeError",
     "evalue": "list indices must be integers or slices, not str",
     "output_type": "error",
     "traceback": [
      "\u001b[1;31m---------------------------------------------------------------------------\u001b[0m",
      "\u001b[1;31mTypeError\u001b[0m                                 Traceback (most recent call last)",
      "\u001b[1;32m<ipython-input-30-cf8fbcf10a78>\u001b[0m in \u001b[0;36m<module>\u001b[1;34m\u001b[0m\n\u001b[0;32m      1\u001b[0m \u001b[1;32mfor\u001b[0m \u001b[0mlad_long\u001b[0m \u001b[1;32min\u001b[0m \u001b[0mresults1\u001b[0m\u001b[1;33m:\u001b[0m\u001b[1;33m\u001b[0m\u001b[1;33m\u001b[0m\u001b[0m\n\u001b[1;32m----> 2\u001b[1;33m     \u001b[0mmap1\u001b[0m\u001b[1;33m.\u001b[0m\u001b[0mdraw\u001b[0m\u001b[1;33m(\u001b[0m\u001b[0mlat_long\u001b[0m\u001b[1;33m[\u001b[0m\u001b[1;34m'location'\u001b[0m\u001b[1;33m]\u001b[0m\u001b[1;33m,\u001b[0m \u001b[0msymbol\u001b[0m\u001b[1;33m=\u001b[0m\u001b[0mred_pin\u001b[0m\u001b[1;33m)\u001b[0m\u001b[1;33m\u001b[0m\u001b[1;33m\u001b[0m\u001b[0m\n\u001b[0m",
      "\u001b[1;31mTypeError\u001b[0m: list indices must be integers or slices, not str"
     ]
    }
   ],
   "source": [
    "for lad_long in results1:\n",
    "    map1.draw(lat_long['location'], symbol=red_pin)"
   ]
  },
  {
   "cell_type": "code",
   "execution_count": null,
   "metadata": {},
   "outputs": [],
   "source": [
    "results1[0].keys()"
   ]
  },
  {
   "cell_type": "code",
   "execution_count": null,
   "metadata": {},
   "outputs": [],
   "source": []
  }
 ],
 "metadata": {
  "kernelspec": {
   "display_name": "Python 3",
   "language": "python",
   "name": "python3"
  },
  "language_info": {
   "codemirror_mode": {
    "name": "ipython",
    "version": 3
   },
   "file_extension": ".py",
   "mimetype": "text/x-python",
   "name": "python",
   "nbconvert_exporter": "python",
   "pygments_lexer": "ipython3",
   "version": "3.7.3"
  }
 },
 "nbformat": 4,
 "nbformat_minor": 2
}
