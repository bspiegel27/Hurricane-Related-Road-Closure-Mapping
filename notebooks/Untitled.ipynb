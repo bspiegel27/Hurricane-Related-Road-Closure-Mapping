{
 "cells": [
  {
   "cell_type": "code",
   "execution_count": null,
   "metadata": {},
   "outputs": [],
   "source": [
    "incident_list = [‘Crash’,‘Crashed’,‘Accident’,‘Collision’,‘collided’,‘Fatal’,‘Tow’,\n",
    "‘Break’,‘Damage’,‘damaged’,’Repair’‘Road work’,‘Closure’,‘closed’,\n",
    "‘Zone’,‘Maintenance’,‘Schedule’,‘Seal’,‘Flooded’,‘flood’,‘broken’,‘broke’,‘Obstacles’,‘Obstacle’,‘Disabled’,\n",
    "‘Stuck’,‘Rain’,‘Slip’,‘Wind’,‘Flood’,‘Rainy’,‘Hazard’,‘Tree’,‘Block’,‘Wiper’,‘Inches’,‘Wet’,\n",
    "‘Cold’,‘Freeze’,‘Hot’,‘Visibility’,‘Fire’,‘Weather’,‘Animal’,‘Deer’,‘Dead’,‘Hail’,‘Melt’,‘Slope’,\n",
    "‘Slick’,‘Tire’,‘Cover’,‘Friction’,‘Frozen’, ‘storm’, ‘traffic’]"
   ]
  }
 ],
 "metadata": {
  "kernelspec": {
   "display_name": "Python 3",
   "language": "python",
   "name": "python3"
  },
  "language_info": {
   "codemirror_mode": {
    "name": "ipython",
    "version": 3
   },
   "file_extension": ".py",
   "mimetype": "text/x-python",
   "name": "python",
   "nbconvert_exporter": "python",
   "pygments_lexer": "ipython3",
   "version": "3.7.3"
  }
 },
 "nbformat": 4,
 "nbformat_minor": 2
}
