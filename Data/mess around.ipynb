{
 "cells": [
  {
   "cell_type": "code",
   "execution_count": 1,
   "metadata": {},
   "outputs": [
    {
     "name": "stdout",
     "output_type": "stream",
     "text": [
      "Obtaining GetOldTweets3 from git+https://github.com/Mottl/GetOldTweets3#egg=GetOldTweets3\n",
      "  Cloning https://github.com/Mottl/GetOldTweets3 to ./src/getoldtweets3\n",
      "Requirement already satisfied: lxml>=3.5.0 in /Users/bobbykelsey/anaconda3/envs/dsi/lib/python3.7/site-packages (from GetOldTweets3) (4.3.2)\n",
      "Requirement already satisfied: pyquery>=1.2.10 in /Users/bobbykelsey/anaconda3/envs/dsi/lib/python3.7/site-packages (from GetOldTweets3) (1.4.0)\n",
      "Requirement already satisfied: cssselect>0.7.9 in /Users/bobbykelsey/anaconda3/envs/dsi/lib/python3.7/site-packages (from pyquery>=1.2.10->GetOldTweets3) (1.0.3)\n",
      "Installing collected packages: GetOldTweets3\n",
      "  Running setup.py develop for GetOldTweets3\n",
      "Successfully installed GetOldTweets3\n",
      "Note: you may need to restart the kernel to use updated packages.\n"
     ]
    }
   ],
   "source": [
    "pip install -e git+https://github.com/Mottl/GetOldTweets3#egg=GetOldTweets3"
   ]
  },
  {
   "cell_type": "code",
   "execution_count": null,
   "metadata": {},
   "outputs": [],
   "source": []
  },
  {
   "cell_type": "code",
   "execution_count": null,
   "metadata": {},
   "outputs": [],
   "source": []
  }
 ],
 "metadata": {
  "kernelspec": {
   "display_name": "Python 3",
   "language": "python",
   "name": "python3"
  },
  "language_info": {
   "codemirror_mode": {
    "name": "ipython",
    "version": 3
   },
   "file_extension": ".py",
   "mimetype": "text/x-python",
   "name": "python",
   "nbconvert_exporter": "python",
   "pygments_lexer": "ipython3",
   "version": "3.7.3"
  }
 },
 "nbformat": 4,
 "nbformat_minor": 2
}
